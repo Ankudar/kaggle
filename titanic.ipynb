{
 "cells": [
  {
   "cell_type": "code",
   "execution_count": 1,
   "id": "08d6dcf8",
   "metadata": {
    "_cell_guid": "b1076dfc-b9ad-4769-8c92-a6c4dae69d19",
    "_uuid": "8f2839f25d086af736a60e9eeb907d3b93b6e0e5",
    "execution": {
     "iopub.execute_input": "2025-01-30T11:57:41.086957Z",
     "iopub.status.busy": "2025-01-30T11:57:41.086555Z",
     "iopub.status.idle": "2025-01-30T11:57:42.227406Z",
     "shell.execute_reply": "2025-01-30T11:57:42.226081Z"
    },
    "papermill": {
     "duration": 1.15404,
     "end_time": "2025-01-30T11:57:42.229650",
     "exception": false,
     "start_time": "2025-01-30T11:57:41.075610",
     "status": "completed"
    },
    "tags": []
   },
   "outputs": [
    {
     "name": "stdout",
     "output_type": "stream",
     "text": [
      "/kaggle/input/titanic/train.csv\n",
      "/kaggle/input/titanic/test.csv\n",
      "/kaggle/input/titanic/gender_submission.csv\n"
     ]
    }
   ],
   "source": [
    "import numpy as np # linear algebra\n",
    "import pandas as pd # data processing, CSV file I/O (e.g. pd.read_csv)\n",
    "\n",
    "import os\n",
    "for dirname, _, filenames in os.walk('/kaggle/input'):\n",
    "    for filename in filenames:\n",
    "        print(os.path.join(dirname, filename))"
   ]
  },
  {
   "cell_type": "code",
   "execution_count": 2,
   "id": "30565b27",
   "metadata": {
    "execution": {
     "iopub.execute_input": "2025-01-30T11:57:42.249057Z",
     "iopub.status.busy": "2025-01-30T11:57:42.248463Z",
     "iopub.status.idle": "2025-01-30T11:57:42.300339Z",
     "shell.execute_reply": "2025-01-30T11:57:42.299192Z"
    },
    "papermill": {
     "duration": 0.064228,
     "end_time": "2025-01-30T11:57:42.302675",
     "exception": false,
     "start_time": "2025-01-30T11:57:42.238447",
     "status": "completed"
    },
    "tags": []
   },
   "outputs": [
    {
     "data": {
      "text/html": [
       "<div>\n",
       "<style scoped>\n",
       "    .dataframe tbody tr th:only-of-type {\n",
       "        vertical-align: middle;\n",
       "    }\n",
       "\n",
       "    .dataframe tbody tr th {\n",
       "        vertical-align: top;\n",
       "    }\n",
       "\n",
       "    .dataframe thead th {\n",
       "        text-align: right;\n",
       "    }\n",
       "</style>\n",
       "<table border=\"1\" class=\"dataframe\">\n",
       "  <thead>\n",
       "    <tr style=\"text-align: right;\">\n",
       "      <th></th>\n",
       "      <th>passengerid</th>\n",
       "      <th>survived</th>\n",
       "      <th>pclass</th>\n",
       "      <th>name</th>\n",
       "      <th>sex</th>\n",
       "      <th>age</th>\n",
       "      <th>sibsp</th>\n",
       "      <th>parch</th>\n",
       "      <th>ticket</th>\n",
       "      <th>fare</th>\n",
       "      <th>cabin</th>\n",
       "      <th>embarked</th>\n",
       "    </tr>\n",
       "  </thead>\n",
       "  <tbody>\n",
       "    <tr>\n",
       "      <th>0</th>\n",
       "      <td>1</td>\n",
       "      <td>0</td>\n",
       "      <td>3</td>\n",
       "      <td>Braund, Mr. Owen Harris</td>\n",
       "      <td>male</td>\n",
       "      <td>22.0</td>\n",
       "      <td>1</td>\n",
       "      <td>0</td>\n",
       "      <td>A/5 21171</td>\n",
       "      <td>7.2500</td>\n",
       "      <td>NaN</td>\n",
       "      <td>S</td>\n",
       "    </tr>\n",
       "    <tr>\n",
       "      <th>1</th>\n",
       "      <td>2</td>\n",
       "      <td>1</td>\n",
       "      <td>1</td>\n",
       "      <td>Cumings, Mrs. John Bradley (Florence Briggs Th...</td>\n",
       "      <td>female</td>\n",
       "      <td>38.0</td>\n",
       "      <td>1</td>\n",
       "      <td>0</td>\n",
       "      <td>PC 17599</td>\n",
       "      <td>71.2833</td>\n",
       "      <td>C85</td>\n",
       "      <td>C</td>\n",
       "    </tr>\n",
       "    <tr>\n",
       "      <th>2</th>\n",
       "      <td>3</td>\n",
       "      <td>1</td>\n",
       "      <td>3</td>\n",
       "      <td>Heikkinen, Miss. Laina</td>\n",
       "      <td>female</td>\n",
       "      <td>26.0</td>\n",
       "      <td>0</td>\n",
       "      <td>0</td>\n",
       "      <td>STON/O2. 3101282</td>\n",
       "      <td>7.9250</td>\n",
       "      <td>NaN</td>\n",
       "      <td>S</td>\n",
       "    </tr>\n",
       "    <tr>\n",
       "      <th>3</th>\n",
       "      <td>4</td>\n",
       "      <td>1</td>\n",
       "      <td>1</td>\n",
       "      <td>Futrelle, Mrs. Jacques Heath (Lily May Peel)</td>\n",
       "      <td>female</td>\n",
       "      <td>35.0</td>\n",
       "      <td>1</td>\n",
       "      <td>0</td>\n",
       "      <td>113803</td>\n",
       "      <td>53.1000</td>\n",
       "      <td>C123</td>\n",
       "      <td>S</td>\n",
       "    </tr>\n",
       "    <tr>\n",
       "      <th>4</th>\n",
       "      <td>5</td>\n",
       "      <td>0</td>\n",
       "      <td>3</td>\n",
       "      <td>Allen, Mr. William Henry</td>\n",
       "      <td>male</td>\n",
       "      <td>35.0</td>\n",
       "      <td>0</td>\n",
       "      <td>0</td>\n",
       "      <td>373450</td>\n",
       "      <td>8.0500</td>\n",
       "      <td>NaN</td>\n",
       "      <td>S</td>\n",
       "    </tr>\n",
       "  </tbody>\n",
       "</table>\n",
       "</div>"
      ],
      "text/plain": [
       "   passengerid  survived  pclass  \\\n",
       "0            1         0       3   \n",
       "1            2         1       1   \n",
       "2            3         1       3   \n",
       "3            4         1       1   \n",
       "4            5         0       3   \n",
       "\n",
       "                                                name     sex   age  sibsp  \\\n",
       "0                            Braund, Mr. Owen Harris    male  22.0      1   \n",
       "1  Cumings, Mrs. John Bradley (Florence Briggs Th...  female  38.0      1   \n",
       "2                             Heikkinen, Miss. Laina  female  26.0      0   \n",
       "3       Futrelle, Mrs. Jacques Heath (Lily May Peel)  female  35.0      1   \n",
       "4                           Allen, Mr. William Henry    male  35.0      0   \n",
       "\n",
       "   parch            ticket     fare cabin embarked  \n",
       "0      0         A/5 21171   7.2500   NaN        S  \n",
       "1      0          PC 17599  71.2833   C85        C  \n",
       "2      0  STON/O2. 3101282   7.9250   NaN        S  \n",
       "3      0            113803  53.1000  C123        S  \n",
       "4      0            373450   8.0500   NaN        S  "
      ]
     },
     "execution_count": 2,
     "metadata": {},
     "output_type": "execute_result"
    }
   ],
   "source": [
    "train_data = pd.read_csv(\"/kaggle/input/titanic/train.csv\")\n",
    "train_data.columns = train_data.columns.str.lower()\n",
    "train_data.head()"
   ]
  },
  {
   "cell_type": "code",
   "execution_count": 3,
   "id": "2a9e58b4",
   "metadata": {
    "execution": {
     "iopub.execute_input": "2025-01-30T11:57:42.321382Z",
     "iopub.status.busy": "2025-01-30T11:57:42.321028Z",
     "iopub.status.idle": "2025-01-30T11:57:42.349169Z",
     "shell.execute_reply": "2025-01-30T11:57:42.347627Z"
    },
    "papermill": {
     "duration": 0.040172,
     "end_time": "2025-01-30T11:57:42.351188",
     "exception": false,
     "start_time": "2025-01-30T11:57:42.311016",
     "status": "completed"
    },
    "tags": []
   },
   "outputs": [
    {
     "name": "stdout",
     "output_type": "stream",
     "text": [
      "<class 'pandas.core.frame.DataFrame'>\n",
      "RangeIndex: 891 entries, 0 to 890\n",
      "Data columns (total 12 columns):\n",
      " #   Column       Non-Null Count  Dtype  \n",
      "---  ------       --------------  -----  \n",
      " 0   passengerid  891 non-null    int64  \n",
      " 1   survived     891 non-null    int64  \n",
      " 2   pclass       891 non-null    int64  \n",
      " 3   name         891 non-null    object \n",
      " 4   sex          891 non-null    object \n",
      " 5   age          714 non-null    float64\n",
      " 6   sibsp        891 non-null    int64  \n",
      " 7   parch        891 non-null    int64  \n",
      " 8   ticket       891 non-null    object \n",
      " 9   fare         891 non-null    float64\n",
      " 10  cabin        204 non-null    object \n",
      " 11  embarked     889 non-null    object \n",
      "dtypes: float64(2), int64(5), object(5)\n",
      "memory usage: 83.7+ KB\n"
     ]
    }
   ],
   "source": [
    "train_data.info()"
   ]
  },
  {
   "cell_type": "code",
   "execution_count": 4,
   "id": "3857043e",
   "metadata": {
    "execution": {
     "iopub.execute_input": "2025-01-30T11:57:42.369044Z",
     "iopub.status.busy": "2025-01-30T11:57:42.368565Z",
     "iopub.status.idle": "2025-01-30T11:57:42.391929Z",
     "shell.execute_reply": "2025-01-30T11:57:42.390809Z"
    },
    "papermill": {
     "duration": 0.034485,
     "end_time": "2025-01-30T11:57:42.394038",
     "exception": false,
     "start_time": "2025-01-30T11:57:42.359553",
     "status": "completed"
    },
    "tags": []
   },
   "outputs": [
    {
     "data": {
      "text/html": [
       "<div>\n",
       "<style scoped>\n",
       "    .dataframe tbody tr th:only-of-type {\n",
       "        vertical-align: middle;\n",
       "    }\n",
       "\n",
       "    .dataframe tbody tr th {\n",
       "        vertical-align: top;\n",
       "    }\n",
       "\n",
       "    .dataframe thead th {\n",
       "        text-align: right;\n",
       "    }\n",
       "</style>\n",
       "<table border=\"1\" class=\"dataframe\">\n",
       "  <thead>\n",
       "    <tr style=\"text-align: right;\">\n",
       "      <th></th>\n",
       "      <th>passengerid</th>\n",
       "      <th>pclass</th>\n",
       "      <th>name</th>\n",
       "      <th>sex</th>\n",
       "      <th>age</th>\n",
       "      <th>sibsp</th>\n",
       "      <th>parch</th>\n",
       "      <th>ticket</th>\n",
       "      <th>fare</th>\n",
       "      <th>cabin</th>\n",
       "      <th>embarked</th>\n",
       "    </tr>\n",
       "  </thead>\n",
       "  <tbody>\n",
       "    <tr>\n",
       "      <th>0</th>\n",
       "      <td>892</td>\n",
       "      <td>3</td>\n",
       "      <td>Kelly, Mr. James</td>\n",
       "      <td>male</td>\n",
       "      <td>34.5</td>\n",
       "      <td>0</td>\n",
       "      <td>0</td>\n",
       "      <td>330911</td>\n",
       "      <td>7.8292</td>\n",
       "      <td>NaN</td>\n",
       "      <td>Q</td>\n",
       "    </tr>\n",
       "    <tr>\n",
       "      <th>1</th>\n",
       "      <td>893</td>\n",
       "      <td>3</td>\n",
       "      <td>Wilkes, Mrs. James (Ellen Needs)</td>\n",
       "      <td>female</td>\n",
       "      <td>47.0</td>\n",
       "      <td>1</td>\n",
       "      <td>0</td>\n",
       "      <td>363272</td>\n",
       "      <td>7.0000</td>\n",
       "      <td>NaN</td>\n",
       "      <td>S</td>\n",
       "    </tr>\n",
       "    <tr>\n",
       "      <th>2</th>\n",
       "      <td>894</td>\n",
       "      <td>2</td>\n",
       "      <td>Myles, Mr. Thomas Francis</td>\n",
       "      <td>male</td>\n",
       "      <td>62.0</td>\n",
       "      <td>0</td>\n",
       "      <td>0</td>\n",
       "      <td>240276</td>\n",
       "      <td>9.6875</td>\n",
       "      <td>NaN</td>\n",
       "      <td>Q</td>\n",
       "    </tr>\n",
       "    <tr>\n",
       "      <th>3</th>\n",
       "      <td>895</td>\n",
       "      <td>3</td>\n",
       "      <td>Wirz, Mr. Albert</td>\n",
       "      <td>male</td>\n",
       "      <td>27.0</td>\n",
       "      <td>0</td>\n",
       "      <td>0</td>\n",
       "      <td>315154</td>\n",
       "      <td>8.6625</td>\n",
       "      <td>NaN</td>\n",
       "      <td>S</td>\n",
       "    </tr>\n",
       "    <tr>\n",
       "      <th>4</th>\n",
       "      <td>896</td>\n",
       "      <td>3</td>\n",
       "      <td>Hirvonen, Mrs. Alexander (Helga E Lindqvist)</td>\n",
       "      <td>female</td>\n",
       "      <td>22.0</td>\n",
       "      <td>1</td>\n",
       "      <td>1</td>\n",
       "      <td>3101298</td>\n",
       "      <td>12.2875</td>\n",
       "      <td>NaN</td>\n",
       "      <td>S</td>\n",
       "    </tr>\n",
       "  </tbody>\n",
       "</table>\n",
       "</div>"
      ],
      "text/plain": [
       "   passengerid  pclass                                          name     sex  \\\n",
       "0          892       3                              Kelly, Mr. James    male   \n",
       "1          893       3              Wilkes, Mrs. James (Ellen Needs)  female   \n",
       "2          894       2                     Myles, Mr. Thomas Francis    male   \n",
       "3          895       3                              Wirz, Mr. Albert    male   \n",
       "4          896       3  Hirvonen, Mrs. Alexander (Helga E Lindqvist)  female   \n",
       "\n",
       "    age  sibsp  parch   ticket     fare cabin embarked  \n",
       "0  34.5      0      0   330911   7.8292   NaN        Q  \n",
       "1  47.0      1      0   363272   7.0000   NaN        S  \n",
       "2  62.0      0      0   240276   9.6875   NaN        Q  \n",
       "3  27.0      0      0   315154   8.6625   NaN        S  \n",
       "4  22.0      1      1  3101298  12.2875   NaN        S  "
      ]
     },
     "execution_count": 4,
     "metadata": {},
     "output_type": "execute_result"
    }
   ],
   "source": [
    "test_data = pd.read_csv(\"/kaggle/input/titanic/test.csv\")\n",
    "test_data.columns = test_data.columns.str.lower()\n",
    "test_data.head()"
   ]
  },
  {
   "cell_type": "code",
   "execution_count": 5,
   "id": "a2b1cf2a",
   "metadata": {
    "execution": {
     "iopub.execute_input": "2025-01-30T11:57:42.412596Z",
     "iopub.status.busy": "2025-01-30T11:57:42.412234Z",
     "iopub.status.idle": "2025-01-30T11:57:42.423630Z",
     "shell.execute_reply": "2025-01-30T11:57:42.422318Z"
    },
    "papermill": {
     "duration": 0.022892,
     "end_time": "2025-01-30T11:57:42.425513",
     "exception": false,
     "start_time": "2025-01-30T11:57:42.402621",
     "status": "completed"
    },
    "tags": []
   },
   "outputs": [
    {
     "name": "stdout",
     "output_type": "stream",
     "text": [
      "<class 'pandas.core.frame.DataFrame'>\n",
      "RangeIndex: 418 entries, 0 to 417\n",
      "Data columns (total 11 columns):\n",
      " #   Column       Non-Null Count  Dtype  \n",
      "---  ------       --------------  -----  \n",
      " 0   passengerid  418 non-null    int64  \n",
      " 1   pclass       418 non-null    int64  \n",
      " 2   name         418 non-null    object \n",
      " 3   sex          418 non-null    object \n",
      " 4   age          332 non-null    float64\n",
      " 5   sibsp        418 non-null    int64  \n",
      " 6   parch        418 non-null    int64  \n",
      " 7   ticket       418 non-null    object \n",
      " 8   fare         417 non-null    float64\n",
      " 9   cabin        91 non-null     object \n",
      " 10  embarked     418 non-null    object \n",
      "dtypes: float64(2), int64(4), object(5)\n",
      "memory usage: 36.0+ KB\n"
     ]
    }
   ],
   "source": [
    "test_data.info()"
   ]
  },
  {
   "cell_type": "code",
   "execution_count": 6,
   "id": "2e9607cf",
   "metadata": {
    "execution": {
     "iopub.execute_input": "2025-01-30T11:57:42.443888Z",
     "iopub.status.busy": "2025-01-30T11:57:42.443494Z",
     "iopub.status.idle": "2025-01-30T11:57:42.458095Z",
     "shell.execute_reply": "2025-01-30T11:57:42.456879Z"
    },
    "papermill": {
     "duration": 0.025851,
     "end_time": "2025-01-30T11:57:42.460025",
     "exception": false,
     "start_time": "2025-01-30T11:57:42.434174",
     "status": "completed"
    },
    "tags": []
   },
   "outputs": [],
   "source": [
    "train_data['family'] = train_data['sibsp'] + train_data['parch']\n",
    "test_data['family'] = test_data['sibsp'] + test_data['parch']\n",
    "\n",
    "train_data['is_alone'] = train_data['family'] == 0\n",
    "test_data['is_alone'] = test_data['family'] == 0\n",
    "\n",
    "train_data = train_data.drop(['ticket', 'cabin'], axis=1)\n",
    "test_data = test_data.drop(['ticket', 'cabin'], axis=1)"
   ]
  },
  {
   "cell_type": "code",
   "execution_count": 7,
   "id": "43395f04",
   "metadata": {
    "execution": {
     "iopub.execute_input": "2025-01-30T11:57:42.478455Z",
     "iopub.status.busy": "2025-01-30T11:57:42.478072Z",
     "iopub.status.idle": "2025-01-30T11:57:42.497153Z",
     "shell.execute_reply": "2025-01-30T11:57:42.495362Z"
    },
    "papermill": {
     "duration": 0.030658,
     "end_time": "2025-01-30T11:57:42.499036",
     "exception": false,
     "start_time": "2025-01-30T11:57:42.468378",
     "status": "completed"
    },
    "tags": []
   },
   "outputs": [
    {
     "name": "stdout",
     "output_type": "stream",
     "text": [
      "<class 'pandas.core.frame.DataFrame'>\n",
      "RangeIndex: 418 entries, 0 to 417\n",
      "Data columns (total 11 columns):\n",
      " #   Column       Non-Null Count  Dtype  \n",
      "---  ------       --------------  -----  \n",
      " 0   passengerid  418 non-null    int64  \n",
      " 1   pclass       418 non-null    int64  \n",
      " 2   name         418 non-null    object \n",
      " 3   sex          418 non-null    object \n",
      " 4   age          332 non-null    float64\n",
      " 5   sibsp        418 non-null    int64  \n",
      " 6   parch        418 non-null    int64  \n",
      " 7   fare         418 non-null    float64\n",
      " 8   embarked     418 non-null    object \n",
      " 9   family       418 non-null    int64  \n",
      " 10  is_alone     418 non-null    bool   \n",
      "dtypes: bool(1), float64(2), int64(5), object(3)\n",
      "memory usage: 33.2+ KB\n"
     ]
    }
   ],
   "source": [
    "# посмотрим пропуск fare\n",
    "test_data[test_data['fare'].isna() == True]\n",
    "# заполним медианой 3 класса мужского пола\n",
    "median_test_fare_isna = test_data[(test_data['fare'].isna() == False) & (test_data['pclass'] == 3) & (test_data['sex'] == 'male')]['fare'].median()\n",
    "test_data['fare'] = test_data['fare'].fillna(median_test_fare_isna)\n",
    "test_data.info()"
   ]
  },
  {
   "cell_type": "code",
   "execution_count": 8,
   "id": "78f61085",
   "metadata": {
    "execution": {
     "iopub.execute_input": "2025-01-30T11:57:42.518197Z",
     "iopub.status.busy": "2025-01-30T11:57:42.517860Z",
     "iopub.status.idle": "2025-01-30T11:57:42.550651Z",
     "shell.execute_reply": "2025-01-30T11:57:42.549413Z"
    },
    "papermill": {
     "duration": 0.044921,
     "end_time": "2025-01-30T11:57:42.552601",
     "exception": false,
     "start_time": "2025-01-30T11:57:42.507680",
     "status": "completed"
    },
    "tags": []
   },
   "outputs": [
    {
     "name": "stdout",
     "output_type": "stream",
     "text": [
      "          fareband  survived\n",
      "0  (-0.512, 102.4]  0.361575\n",
      "1   (102.4, 204.8]  0.757576\n",
      "2   (204.8, 307.2]  0.647059\n",
      "3   (307.2, 409.6]       NaN\n",
      "4   (409.6, 512.0]  1.000000\n"
     ]
    },
    {
     "name": "stderr",
     "output_type": "stream",
     "text": [
      "<ipython-input-8-9907d5c6934a>:15: FutureWarning: The default of observed=False is deprecated and will be changed to True in a future version of pandas. Pass observed=False to retain current behavior or observed=True to adopt the future default and silence this warning.\n",
      "  print(train_data[['fareband', 'survived']].groupby(['fareband'], as_index=False).mean())\n",
      "/usr/local/lib/python3.10/dist-packages/pandas/io/formats/format.py:1458: RuntimeWarning: invalid value encountered in greater\n",
      "  has_large_values = (abs_vals > 1e6).any()\n",
      "/usr/local/lib/python3.10/dist-packages/pandas/io/formats/format.py:1459: RuntimeWarning: invalid value encountered in less\n",
      "  has_small_values = ((abs_vals < 10 ** (-self.digits)) & (abs_vals > 0)).any()\n",
      "/usr/local/lib/python3.10/dist-packages/pandas/io/formats/format.py:1459: RuntimeWarning: invalid value encountered in greater\n",
      "  has_small_values = ((abs_vals < 10 ** (-self.digits)) & (abs_vals > 0)).any()\n"
     ]
    }
   ],
   "source": [
    "# категаризируем стоимость билета\n",
    "for dataset in [train_data, test_data]:\n",
    "    age_avg = dataset['fare'].mean()\n",
    "    age_std = dataset['fare'].std()\n",
    "    age_null_count = dataset['fare'].isnull().sum()\n",
    "    \n",
    "    age_null_random_list = np.random.randint(age_avg - age_std, age_avg + age_std, size=age_null_count)\n",
    "    dataset.loc[np.isnan(dataset['fare']), 'fare'] = age_null_random_list\n",
    "    dataset['fare'] = dataset['fare'].astype(int)\n",
    "\n",
    "# Категоризация возраста для train_data\n",
    "train_data['fareband'] = pd.cut(train_data['fare'], 5)\n",
    "\n",
    "# Печать средних значений выживаемости по возрастным группам для train_data\n",
    "print(train_data[['fareband', 'survived']].groupby(['fareband'], as_index=False).mean())"
   ]
  },
  {
   "cell_type": "code",
   "execution_count": 9,
   "id": "d4a3522b",
   "metadata": {
    "execution": {
     "iopub.execute_input": "2025-01-30T11:57:42.571634Z",
     "iopub.status.busy": "2025-01-30T11:57:42.571226Z",
     "iopub.status.idle": "2025-01-30T11:57:42.604529Z",
     "shell.execute_reply": "2025-01-30T11:57:42.603291Z"
    },
    "papermill": {
     "duration": 0.045017,
     "end_time": "2025-01-30T11:57:42.606458",
     "exception": false,
     "start_time": "2025-01-30T11:57:42.561441",
     "status": "completed"
    },
    "tags": []
   },
   "outputs": [
    {
     "data": {
      "text/html": [
       "<div>\n",
       "<style scoped>\n",
       "    .dataframe tbody tr th:only-of-type {\n",
       "        vertical-align: middle;\n",
       "    }\n",
       "\n",
       "    .dataframe tbody tr th {\n",
       "        vertical-align: top;\n",
       "    }\n",
       "\n",
       "    .dataframe thead th {\n",
       "        text-align: right;\n",
       "    }\n",
       "</style>\n",
       "<table border=\"1\" class=\"dataframe\">\n",
       "  <thead>\n",
       "    <tr style=\"text-align: right;\">\n",
       "      <th></th>\n",
       "      <th>passengerid</th>\n",
       "      <th>survived</th>\n",
       "      <th>pclass</th>\n",
       "      <th>name</th>\n",
       "      <th>sex</th>\n",
       "      <th>age</th>\n",
       "      <th>sibsp</th>\n",
       "      <th>parch</th>\n",
       "      <th>fare</th>\n",
       "      <th>embarked</th>\n",
       "      <th>family</th>\n",
       "      <th>is_alone</th>\n",
       "      <th>fareband</th>\n",
       "    </tr>\n",
       "  </thead>\n",
       "  <tbody>\n",
       "    <tr>\n",
       "      <th>0</th>\n",
       "      <td>1</td>\n",
       "      <td>0</td>\n",
       "      <td>3</td>\n",
       "      <td>Braund, Mr. Owen Harris</td>\n",
       "      <td>male</td>\n",
       "      <td>22.0</td>\n",
       "      <td>1</td>\n",
       "      <td>0</td>\n",
       "      <td>0</td>\n",
       "      <td>S</td>\n",
       "      <td>1</td>\n",
       "      <td>False</td>\n",
       "      <td>(-0.512, 102.4]</td>\n",
       "    </tr>\n",
       "    <tr>\n",
       "      <th>1</th>\n",
       "      <td>2</td>\n",
       "      <td>1</td>\n",
       "      <td>1</td>\n",
       "      <td>Cumings, Mrs. John Bradley (Florence Briggs Th...</td>\n",
       "      <td>female</td>\n",
       "      <td>38.0</td>\n",
       "      <td>1</td>\n",
       "      <td>0</td>\n",
       "      <td>0</td>\n",
       "      <td>C</td>\n",
       "      <td>1</td>\n",
       "      <td>False</td>\n",
       "      <td>(-0.512, 102.4]</td>\n",
       "    </tr>\n",
       "    <tr>\n",
       "      <th>2</th>\n",
       "      <td>3</td>\n",
       "      <td>1</td>\n",
       "      <td>3</td>\n",
       "      <td>Heikkinen, Miss. Laina</td>\n",
       "      <td>female</td>\n",
       "      <td>26.0</td>\n",
       "      <td>0</td>\n",
       "      <td>0</td>\n",
       "      <td>0</td>\n",
       "      <td>S</td>\n",
       "      <td>0</td>\n",
       "      <td>True</td>\n",
       "      <td>(-0.512, 102.4]</td>\n",
       "    </tr>\n",
       "    <tr>\n",
       "      <th>3</th>\n",
       "      <td>4</td>\n",
       "      <td>1</td>\n",
       "      <td>1</td>\n",
       "      <td>Futrelle, Mrs. Jacques Heath (Lily May Peel)</td>\n",
       "      <td>female</td>\n",
       "      <td>35.0</td>\n",
       "      <td>1</td>\n",
       "      <td>0</td>\n",
       "      <td>0</td>\n",
       "      <td>S</td>\n",
       "      <td>1</td>\n",
       "      <td>False</td>\n",
       "      <td>(-0.512, 102.4]</td>\n",
       "    </tr>\n",
       "    <tr>\n",
       "      <th>4</th>\n",
       "      <td>5</td>\n",
       "      <td>0</td>\n",
       "      <td>3</td>\n",
       "      <td>Allen, Mr. William Henry</td>\n",
       "      <td>male</td>\n",
       "      <td>35.0</td>\n",
       "      <td>0</td>\n",
       "      <td>0</td>\n",
       "      <td>0</td>\n",
       "      <td>S</td>\n",
       "      <td>0</td>\n",
       "      <td>True</td>\n",
       "      <td>(-0.512, 102.4]</td>\n",
       "    </tr>\n",
       "  </tbody>\n",
       "</table>\n",
       "</div>"
      ],
      "text/plain": [
       "   passengerid  survived  pclass  \\\n",
       "0            1         0       3   \n",
       "1            2         1       1   \n",
       "2            3         1       3   \n",
       "3            4         1       1   \n",
       "4            5         0       3   \n",
       "\n",
       "                                                name     sex   age  sibsp  \\\n",
       "0                            Braund, Mr. Owen Harris    male  22.0      1   \n",
       "1  Cumings, Mrs. John Bradley (Florence Briggs Th...  female  38.0      1   \n",
       "2                             Heikkinen, Miss. Laina  female  26.0      0   \n",
       "3       Futrelle, Mrs. Jacques Heath (Lily May Peel)  female  35.0      1   \n",
       "4                           Allen, Mr. William Henry    male  35.0      0   \n",
       "\n",
       "   parch  fare embarked  family  is_alone         fareband  \n",
       "0      0     0        S       1     False  (-0.512, 102.4]  \n",
       "1      0     0        C       1     False  (-0.512, 102.4]  \n",
       "2      0     0        S       0      True  (-0.512, 102.4]  \n",
       "3      0     0        S       1     False  (-0.512, 102.4]  \n",
       "4      0     0        S       0      True  (-0.512, 102.4]  "
      ]
     },
     "metadata": {},
     "output_type": "display_data"
    },
    {
     "data": {
      "text/html": [
       "<div>\n",
       "<style scoped>\n",
       "    .dataframe tbody tr th:only-of-type {\n",
       "        vertical-align: middle;\n",
       "    }\n",
       "\n",
       "    .dataframe tbody tr th {\n",
       "        vertical-align: top;\n",
       "    }\n",
       "\n",
       "    .dataframe thead th {\n",
       "        text-align: right;\n",
       "    }\n",
       "</style>\n",
       "<table border=\"1\" class=\"dataframe\">\n",
       "  <thead>\n",
       "    <tr style=\"text-align: right;\">\n",
       "      <th></th>\n",
       "      <th>passengerid</th>\n",
       "      <th>pclass</th>\n",
       "      <th>name</th>\n",
       "      <th>sex</th>\n",
       "      <th>age</th>\n",
       "      <th>sibsp</th>\n",
       "      <th>parch</th>\n",
       "      <th>fare</th>\n",
       "      <th>embarked</th>\n",
       "      <th>family</th>\n",
       "      <th>is_alone</th>\n",
       "    </tr>\n",
       "  </thead>\n",
       "  <tbody>\n",
       "    <tr>\n",
       "      <th>0</th>\n",
       "      <td>892</td>\n",
       "      <td>3</td>\n",
       "      <td>Kelly, Mr. James</td>\n",
       "      <td>male</td>\n",
       "      <td>34.5</td>\n",
       "      <td>0</td>\n",
       "      <td>0</td>\n",
       "      <td>0</td>\n",
       "      <td>Q</td>\n",
       "      <td>0</td>\n",
       "      <td>True</td>\n",
       "    </tr>\n",
       "    <tr>\n",
       "      <th>1</th>\n",
       "      <td>893</td>\n",
       "      <td>3</td>\n",
       "      <td>Wilkes, Mrs. James (Ellen Needs)</td>\n",
       "      <td>female</td>\n",
       "      <td>47.0</td>\n",
       "      <td>1</td>\n",
       "      <td>0</td>\n",
       "      <td>0</td>\n",
       "      <td>S</td>\n",
       "      <td>1</td>\n",
       "      <td>False</td>\n",
       "    </tr>\n",
       "    <tr>\n",
       "      <th>2</th>\n",
       "      <td>894</td>\n",
       "      <td>2</td>\n",
       "      <td>Myles, Mr. Thomas Francis</td>\n",
       "      <td>male</td>\n",
       "      <td>62.0</td>\n",
       "      <td>0</td>\n",
       "      <td>0</td>\n",
       "      <td>0</td>\n",
       "      <td>Q</td>\n",
       "      <td>0</td>\n",
       "      <td>True</td>\n",
       "    </tr>\n",
       "    <tr>\n",
       "      <th>3</th>\n",
       "      <td>895</td>\n",
       "      <td>3</td>\n",
       "      <td>Wirz, Mr. Albert</td>\n",
       "      <td>male</td>\n",
       "      <td>27.0</td>\n",
       "      <td>0</td>\n",
       "      <td>0</td>\n",
       "      <td>0</td>\n",
       "      <td>S</td>\n",
       "      <td>0</td>\n",
       "      <td>True</td>\n",
       "    </tr>\n",
       "    <tr>\n",
       "      <th>4</th>\n",
       "      <td>896</td>\n",
       "      <td>3</td>\n",
       "      <td>Hirvonen, Mrs. Alexander (Helga E Lindqvist)</td>\n",
       "      <td>female</td>\n",
       "      <td>22.0</td>\n",
       "      <td>1</td>\n",
       "      <td>1</td>\n",
       "      <td>0</td>\n",
       "      <td>S</td>\n",
       "      <td>2</td>\n",
       "      <td>False</td>\n",
       "    </tr>\n",
       "  </tbody>\n",
       "</table>\n",
       "</div>"
      ],
      "text/plain": [
       "   passengerid  pclass                                          name     sex  \\\n",
       "0          892       3                              Kelly, Mr. James    male   \n",
       "1          893       3              Wilkes, Mrs. James (Ellen Needs)  female   \n",
       "2          894       2                     Myles, Mr. Thomas Francis    male   \n",
       "3          895       3                              Wirz, Mr. Albert    male   \n",
       "4          896       3  Hirvonen, Mrs. Alexander (Helga E Lindqvist)  female   \n",
       "\n",
       "    age  sibsp  parch  fare embarked  family  is_alone  \n",
       "0  34.5      0      0     0        Q       0      True  \n",
       "1  47.0      1      0     0        S       1     False  \n",
       "2  62.0      0      0     0        Q       0      True  \n",
       "3  27.0      0      0     0        S       0      True  \n",
       "4  22.0      1      1     0        S       2     False  "
      ]
     },
     "execution_count": 9,
     "metadata": {},
     "output_type": "execute_result"
    }
   ],
   "source": [
    "for dataset in [train_data, test_data]:\n",
    "    dataset.loc[ dataset['fare'] <= 102, 'fare'] = 0\n",
    "    dataset.loc[(dataset['fare'] > 102) & (dataset['fare'] <= 204), 'fare'] = 1\n",
    "    dataset.loc[(dataset['fare'] > 204) & (dataset['fare'] <= 307), 'fare'] = 2\n",
    "    dataset.loc[(dataset['fare'] > 307) & (dataset['fare'] <= 409), 'fare'] = 3\n",
    "    dataset.loc[ dataset['fare'] > 409, 'fare'] = 4\n",
    "\n",
    "display(train_data.head())\n",
    "test_data.head()"
   ]
  },
  {
   "cell_type": "code",
   "execution_count": 10,
   "id": "b2729a3e",
   "metadata": {
    "execution": {
     "iopub.execute_input": "2025-01-30T11:57:42.626341Z",
     "iopub.status.busy": "2025-01-30T11:57:42.625933Z",
     "iopub.status.idle": "2025-01-30T11:57:42.645303Z",
     "shell.execute_reply": "2025-01-30T11:57:42.643929Z"
    },
    "papermill": {
     "duration": 0.031418,
     "end_time": "2025-01-30T11:57:42.647235",
     "exception": false,
     "start_time": "2025-01-30T11:57:42.615817",
     "status": "completed"
    },
    "tags": []
   },
   "outputs": [
    {
     "name": "stdout",
     "output_type": "stream",
     "text": [
      "         ageband  survived\n",
      "0  (-0.08, 16.0]  0.537037\n",
      "1   (16.0, 32.0]  0.342048\n",
      "2   (32.0, 48.0]  0.393443\n",
      "3   (48.0, 64.0]  0.434783\n",
      "4   (64.0, 80.0]  0.090909\n"
     ]
    },
    {
     "name": "stderr",
     "output_type": "stream",
     "text": [
      "<ipython-input-10-6668d98c1e64>:15: FutureWarning: The default of observed=False is deprecated and will be changed to True in a future version of pandas. Pass observed=False to retain current behavior or observed=True to adopt the future default and silence this warning.\n",
      "  print(train_data[['ageband', 'survived']].groupby(['ageband'], as_index=False).mean())\n"
     ]
    }
   ],
   "source": [
    "# категаризируем возраст\n",
    "for dataset in [train_data, test_data]:\n",
    "    age_avg = dataset['age'].mean()\n",
    "    age_std = dataset['age'].std()\n",
    "    age_null_count = dataset['age'].isnull().sum()\n",
    "    \n",
    "    age_null_random_list = np.random.randint(age_avg - age_std, age_avg + age_std, size=age_null_count)\n",
    "    dataset.loc[np.isnan(dataset['age']), 'age'] = age_null_random_list\n",
    "    dataset['age'] = dataset['age'].astype(int)\n",
    "\n",
    "# Категоризация возраста для train_data\n",
    "train_data['ageband'] = pd.cut(train_data['age'], 5)\n",
    "\n",
    "# Печать средних значений выживаемости по возрастным группам для train_data\n",
    "print(train_data[['ageband', 'survived']].groupby(['ageband'], as_index=False).mean())\n"
   ]
  },
  {
   "cell_type": "code",
   "execution_count": 11,
   "id": "22b33b2d",
   "metadata": {
    "execution": {
     "iopub.execute_input": "2025-01-30T11:57:42.667209Z",
     "iopub.status.busy": "2025-01-30T11:57:42.666863Z",
     "iopub.status.idle": "2025-01-30T11:57:42.699695Z",
     "shell.execute_reply": "2025-01-30T11:57:42.698633Z"
    },
    "papermill": {
     "duration": 0.045117,
     "end_time": "2025-01-30T11:57:42.701598",
     "exception": false,
     "start_time": "2025-01-30T11:57:42.656481",
     "status": "completed"
    },
    "tags": []
   },
   "outputs": [
    {
     "data": {
      "text/html": [
       "<div>\n",
       "<style scoped>\n",
       "    .dataframe tbody tr th:only-of-type {\n",
       "        vertical-align: middle;\n",
       "    }\n",
       "\n",
       "    .dataframe tbody tr th {\n",
       "        vertical-align: top;\n",
       "    }\n",
       "\n",
       "    .dataframe thead th {\n",
       "        text-align: right;\n",
       "    }\n",
       "</style>\n",
       "<table border=\"1\" class=\"dataframe\">\n",
       "  <thead>\n",
       "    <tr style=\"text-align: right;\">\n",
       "      <th></th>\n",
       "      <th>passengerid</th>\n",
       "      <th>survived</th>\n",
       "      <th>pclass</th>\n",
       "      <th>name</th>\n",
       "      <th>sex</th>\n",
       "      <th>age</th>\n",
       "      <th>sibsp</th>\n",
       "      <th>parch</th>\n",
       "      <th>fare</th>\n",
       "      <th>embarked</th>\n",
       "      <th>family</th>\n",
       "      <th>is_alone</th>\n",
       "      <th>fareband</th>\n",
       "      <th>ageband</th>\n",
       "    </tr>\n",
       "  </thead>\n",
       "  <tbody>\n",
       "    <tr>\n",
       "      <th>0</th>\n",
       "      <td>1</td>\n",
       "      <td>0</td>\n",
       "      <td>3</td>\n",
       "      <td>Braund, Mr. Owen Harris</td>\n",
       "      <td>male</td>\n",
       "      <td>1</td>\n",
       "      <td>1</td>\n",
       "      <td>0</td>\n",
       "      <td>0</td>\n",
       "      <td>S</td>\n",
       "      <td>1</td>\n",
       "      <td>False</td>\n",
       "      <td>(-0.512, 102.4]</td>\n",
       "      <td>(16.0, 32.0]</td>\n",
       "    </tr>\n",
       "    <tr>\n",
       "      <th>1</th>\n",
       "      <td>2</td>\n",
       "      <td>1</td>\n",
       "      <td>1</td>\n",
       "      <td>Cumings, Mrs. John Bradley (Florence Briggs Th...</td>\n",
       "      <td>female</td>\n",
       "      <td>2</td>\n",
       "      <td>1</td>\n",
       "      <td>0</td>\n",
       "      <td>0</td>\n",
       "      <td>C</td>\n",
       "      <td>1</td>\n",
       "      <td>False</td>\n",
       "      <td>(-0.512, 102.4]</td>\n",
       "      <td>(32.0, 48.0]</td>\n",
       "    </tr>\n",
       "    <tr>\n",
       "      <th>2</th>\n",
       "      <td>3</td>\n",
       "      <td>1</td>\n",
       "      <td>3</td>\n",
       "      <td>Heikkinen, Miss. Laina</td>\n",
       "      <td>female</td>\n",
       "      <td>1</td>\n",
       "      <td>0</td>\n",
       "      <td>0</td>\n",
       "      <td>0</td>\n",
       "      <td>S</td>\n",
       "      <td>0</td>\n",
       "      <td>True</td>\n",
       "      <td>(-0.512, 102.4]</td>\n",
       "      <td>(16.0, 32.0]</td>\n",
       "    </tr>\n",
       "    <tr>\n",
       "      <th>3</th>\n",
       "      <td>4</td>\n",
       "      <td>1</td>\n",
       "      <td>1</td>\n",
       "      <td>Futrelle, Mrs. Jacques Heath (Lily May Peel)</td>\n",
       "      <td>female</td>\n",
       "      <td>2</td>\n",
       "      <td>1</td>\n",
       "      <td>0</td>\n",
       "      <td>0</td>\n",
       "      <td>S</td>\n",
       "      <td>1</td>\n",
       "      <td>False</td>\n",
       "      <td>(-0.512, 102.4]</td>\n",
       "      <td>(32.0, 48.0]</td>\n",
       "    </tr>\n",
       "    <tr>\n",
       "      <th>4</th>\n",
       "      <td>5</td>\n",
       "      <td>0</td>\n",
       "      <td>3</td>\n",
       "      <td>Allen, Mr. William Henry</td>\n",
       "      <td>male</td>\n",
       "      <td>2</td>\n",
       "      <td>0</td>\n",
       "      <td>0</td>\n",
       "      <td>0</td>\n",
       "      <td>S</td>\n",
       "      <td>0</td>\n",
       "      <td>True</td>\n",
       "      <td>(-0.512, 102.4]</td>\n",
       "      <td>(32.0, 48.0]</td>\n",
       "    </tr>\n",
       "  </tbody>\n",
       "</table>\n",
       "</div>"
      ],
      "text/plain": [
       "   passengerid  survived  pclass  \\\n",
       "0            1         0       3   \n",
       "1            2         1       1   \n",
       "2            3         1       3   \n",
       "3            4         1       1   \n",
       "4            5         0       3   \n",
       "\n",
       "                                                name     sex  age  sibsp  \\\n",
       "0                            Braund, Mr. Owen Harris    male    1      1   \n",
       "1  Cumings, Mrs. John Bradley (Florence Briggs Th...  female    2      1   \n",
       "2                             Heikkinen, Miss. Laina  female    1      0   \n",
       "3       Futrelle, Mrs. Jacques Heath (Lily May Peel)  female    2      1   \n",
       "4                           Allen, Mr. William Henry    male    2      0   \n",
       "\n",
       "   parch  fare embarked  family  is_alone         fareband       ageband  \n",
       "0      0     0        S       1     False  (-0.512, 102.4]  (16.0, 32.0]  \n",
       "1      0     0        C       1     False  (-0.512, 102.4]  (32.0, 48.0]  \n",
       "2      0     0        S       0      True  (-0.512, 102.4]  (16.0, 32.0]  \n",
       "3      0     0        S       1     False  (-0.512, 102.4]  (32.0, 48.0]  \n",
       "4      0     0        S       0      True  (-0.512, 102.4]  (32.0, 48.0]  "
      ]
     },
     "metadata": {},
     "output_type": "display_data"
    },
    {
     "data": {
      "text/html": [
       "<div>\n",
       "<style scoped>\n",
       "    .dataframe tbody tr th:only-of-type {\n",
       "        vertical-align: middle;\n",
       "    }\n",
       "\n",
       "    .dataframe tbody tr th {\n",
       "        vertical-align: top;\n",
       "    }\n",
       "\n",
       "    .dataframe thead th {\n",
       "        text-align: right;\n",
       "    }\n",
       "</style>\n",
       "<table border=\"1\" class=\"dataframe\">\n",
       "  <thead>\n",
       "    <tr style=\"text-align: right;\">\n",
       "      <th></th>\n",
       "      <th>passengerid</th>\n",
       "      <th>pclass</th>\n",
       "      <th>name</th>\n",
       "      <th>sex</th>\n",
       "      <th>age</th>\n",
       "      <th>sibsp</th>\n",
       "      <th>parch</th>\n",
       "      <th>fare</th>\n",
       "      <th>embarked</th>\n",
       "      <th>family</th>\n",
       "      <th>is_alone</th>\n",
       "    </tr>\n",
       "  </thead>\n",
       "  <tbody>\n",
       "    <tr>\n",
       "      <th>0</th>\n",
       "      <td>892</td>\n",
       "      <td>3</td>\n",
       "      <td>Kelly, Mr. James</td>\n",
       "      <td>male</td>\n",
       "      <td>2</td>\n",
       "      <td>0</td>\n",
       "      <td>0</td>\n",
       "      <td>0</td>\n",
       "      <td>Q</td>\n",
       "      <td>0</td>\n",
       "      <td>True</td>\n",
       "    </tr>\n",
       "    <tr>\n",
       "      <th>1</th>\n",
       "      <td>893</td>\n",
       "      <td>3</td>\n",
       "      <td>Wilkes, Mrs. James (Ellen Needs)</td>\n",
       "      <td>female</td>\n",
       "      <td>2</td>\n",
       "      <td>1</td>\n",
       "      <td>0</td>\n",
       "      <td>0</td>\n",
       "      <td>S</td>\n",
       "      <td>1</td>\n",
       "      <td>False</td>\n",
       "    </tr>\n",
       "    <tr>\n",
       "      <th>2</th>\n",
       "      <td>894</td>\n",
       "      <td>2</td>\n",
       "      <td>Myles, Mr. Thomas Francis</td>\n",
       "      <td>male</td>\n",
       "      <td>3</td>\n",
       "      <td>0</td>\n",
       "      <td>0</td>\n",
       "      <td>0</td>\n",
       "      <td>Q</td>\n",
       "      <td>0</td>\n",
       "      <td>True</td>\n",
       "    </tr>\n",
       "    <tr>\n",
       "      <th>3</th>\n",
       "      <td>895</td>\n",
       "      <td>3</td>\n",
       "      <td>Wirz, Mr. Albert</td>\n",
       "      <td>male</td>\n",
       "      <td>1</td>\n",
       "      <td>0</td>\n",
       "      <td>0</td>\n",
       "      <td>0</td>\n",
       "      <td>S</td>\n",
       "      <td>0</td>\n",
       "      <td>True</td>\n",
       "    </tr>\n",
       "    <tr>\n",
       "      <th>4</th>\n",
       "      <td>896</td>\n",
       "      <td>3</td>\n",
       "      <td>Hirvonen, Mrs. Alexander (Helga E Lindqvist)</td>\n",
       "      <td>female</td>\n",
       "      <td>1</td>\n",
       "      <td>1</td>\n",
       "      <td>1</td>\n",
       "      <td>0</td>\n",
       "      <td>S</td>\n",
       "      <td>2</td>\n",
       "      <td>False</td>\n",
       "    </tr>\n",
       "  </tbody>\n",
       "</table>\n",
       "</div>"
      ],
      "text/plain": [
       "   passengerid  pclass                                          name     sex  \\\n",
       "0          892       3                              Kelly, Mr. James    male   \n",
       "1          893       3              Wilkes, Mrs. James (Ellen Needs)  female   \n",
       "2          894       2                     Myles, Mr. Thomas Francis    male   \n",
       "3          895       3                              Wirz, Mr. Albert    male   \n",
       "4          896       3  Hirvonen, Mrs. Alexander (Helga E Lindqvist)  female   \n",
       "\n",
       "   age  sibsp  parch  fare embarked  family  is_alone  \n",
       "0    2      0      0     0        Q       0      True  \n",
       "1    2      1      0     0        S       1     False  \n",
       "2    3      0      0     0        Q       0      True  \n",
       "3    1      0      0     0        S       0      True  \n",
       "4    1      1      1     0        S       2     False  "
      ]
     },
     "execution_count": 11,
     "metadata": {},
     "output_type": "execute_result"
    }
   ],
   "source": [
    "for dataset in [train_data, test_data]:\n",
    "    dataset.loc[ dataset['age'] <= 16, 'age'] = 0\n",
    "    dataset.loc[(dataset['age'] > 16) & (dataset['age'] <= 32), 'age'] = 1\n",
    "    dataset.loc[(dataset['age'] > 32) & (dataset['age'] <= 48), 'age'] = 2\n",
    "    dataset.loc[(dataset['age'] > 48) & (dataset['age'] <= 64), 'age'] = 3\n",
    "    dataset.loc[ dataset['age'] > 64, 'age'] = 4\n",
    "    \n",
    "display(train_data.head())\n",
    "test_data.head()"
   ]
  },
  {
   "cell_type": "code",
   "execution_count": 12,
   "id": "59336d79",
   "metadata": {
    "execution": {
     "iopub.execute_input": "2025-01-30T11:57:42.724583Z",
     "iopub.status.busy": "2025-01-30T11:57:42.724234Z",
     "iopub.status.idle": "2025-01-30T11:57:42.736287Z",
     "shell.execute_reply": "2025-01-30T11:57:42.735263Z"
    },
    "papermill": {
     "duration": 0.024781,
     "end_time": "2025-01-30T11:57:42.738371",
     "exception": false,
     "start_time": "2025-01-30T11:57:42.713590",
     "status": "completed"
    },
    "tags": []
   },
   "outputs": [
    {
     "data": {
      "text/plain": [
       "array([0, 1])"
      ]
     },
     "metadata": {},
     "output_type": "display_data"
    },
    {
     "data": {
      "text/plain": [
       "array([0, 1])"
      ]
     },
     "execution_count": 12,
     "metadata": {},
     "output_type": "execute_result"
    }
   ],
   "source": [
    "# меняет male На 0 а female на 1\n",
    "def map_sex(value):\n",
    "    if value == 'male':\n",
    "        return 0\n",
    "    elif value == 'female':\n",
    "        return 1\n",
    "    else:\n",
    "        return value\n",
    "\n",
    "train_data['sex'] = train_data['sex'].apply(map_sex)\n",
    "test_data['sex'] = test_data['sex'].apply(map_sex)\n",
    "\n",
    "display(train_data['sex'].unique())\n",
    "test_data['sex'].unique()"
   ]
  },
  {
   "cell_type": "code",
   "execution_count": 13,
   "id": "1c51c54e",
   "metadata": {
    "execution": {
     "iopub.execute_input": "2025-01-30T11:57:42.760310Z",
     "iopub.status.busy": "2025-01-30T11:57:42.759937Z",
     "iopub.status.idle": "2025-01-30T11:57:42.771691Z",
     "shell.execute_reply": "2025-01-30T11:57:42.770525Z"
    },
    "papermill": {
     "duration": 0.024723,
     "end_time": "2025-01-30T11:57:42.773601",
     "exception": false,
     "start_time": "2025-01-30T11:57:42.748878",
     "status": "completed"
    },
    "tags": []
   },
   "outputs": [
    {
     "data": {
      "text/plain": [
       "array([0, 1, 2])"
      ]
     },
     "metadata": {},
     "output_type": "display_data"
    },
    {
     "data": {
      "text/plain": [
       "array([2, 0, 1])"
      ]
     },
     "execution_count": 13,
     "metadata": {},
     "output_type": "execute_result"
    }
   ],
   "source": [
    "# меняет аналогично пункты отбытия\n",
    "def map_embarked(value):\n",
    "    if value == 'S':\n",
    "        return 0\n",
    "    elif value == 'C':\n",
    "        return 1\n",
    "    else:\n",
    "        return 2\n",
    "\n",
    "train_data['embarked'] = train_data['embarked'].apply(map_embarked)\n",
    "test_data['embarked'] = test_data['embarked'].apply(map_embarked)\n",
    "\n",
    "display(train_data['embarked'].unique())\n",
    "test_data['embarked'].unique()"
   ]
  },
  {
   "cell_type": "code",
   "execution_count": 14,
   "id": "3f6511e8",
   "metadata": {
    "execution": {
     "iopub.execute_input": "2025-01-30T11:57:42.796540Z",
     "iopub.status.busy": "2025-01-30T11:57:42.796219Z",
     "iopub.status.idle": "2025-01-30T11:57:42.807746Z",
     "shell.execute_reply": "2025-01-30T11:57:42.806345Z"
    },
    "papermill": {
     "duration": 0.024373,
     "end_time": "2025-01-30T11:57:42.809509",
     "exception": false,
     "start_time": "2025-01-30T11:57:42.785136",
     "status": "completed"
    },
    "tags": []
   },
   "outputs": [
    {
     "data": {
      "text/plain": [
       "array(['Mr', 'Mrs', 'Miss', 'Master', 'Don', 'Rev', 'Dr', 'Mme', 'Ms',\n",
       "       'Major', 'Lady', 'Sir', 'Mlle', 'Col', 'Capt', 'Countess',\n",
       "       'Jonkheer'], dtype=object)"
      ]
     },
     "execution_count": 14,
     "metadata": {},
     "output_type": "execute_result"
    }
   ],
   "source": [
    "#обработаем обращения к пассажирам\n",
    "for dataset in [train_data, test_data]:\n",
    "    dataset['title'] = dataset.name.str.extract(' ([A-Za-z]+)\\.')\n",
    "train_data['title'].unique()\n"
   ]
  },
  {
   "cell_type": "code",
   "execution_count": 15,
   "id": "a737ed3a",
   "metadata": {
    "execution": {
     "iopub.execute_input": "2025-01-30T11:57:42.831513Z",
     "iopub.status.busy": "2025-01-30T11:57:42.831100Z",
     "iopub.status.idle": "2025-01-30T11:57:42.851991Z",
     "shell.execute_reply": "2025-01-30T11:57:42.850513Z"
    },
    "papermill": {
     "duration": 0.034739,
     "end_time": "2025-01-30T11:57:42.854596",
     "exception": false,
     "start_time": "2025-01-30T11:57:42.819857",
     "status": "completed"
    },
    "tags": []
   },
   "outputs": [
    {
     "data": {
      "text/html": [
       "<div>\n",
       "<style scoped>\n",
       "    .dataframe tbody tr th:only-of-type {\n",
       "        vertical-align: middle;\n",
       "    }\n",
       "\n",
       "    .dataframe tbody tr th {\n",
       "        vertical-align: top;\n",
       "    }\n",
       "\n",
       "    .dataframe thead th {\n",
       "        text-align: right;\n",
       "    }\n",
       "</style>\n",
       "<table border=\"1\" class=\"dataframe\">\n",
       "  <thead>\n",
       "    <tr style=\"text-align: right;\">\n",
       "      <th></th>\n",
       "      <th>title</th>\n",
       "      <th>survived</th>\n",
       "    </tr>\n",
       "  </thead>\n",
       "  <tbody>\n",
       "    <tr>\n",
       "      <th>0</th>\n",
       "      <td>Master</td>\n",
       "      <td>0.575000</td>\n",
       "    </tr>\n",
       "    <tr>\n",
       "      <th>1</th>\n",
       "      <td>Miss</td>\n",
       "      <td>0.702703</td>\n",
       "    </tr>\n",
       "    <tr>\n",
       "      <th>2</th>\n",
       "      <td>Mr</td>\n",
       "      <td>0.156673</td>\n",
       "    </tr>\n",
       "    <tr>\n",
       "      <th>3</th>\n",
       "      <td>Mrs</td>\n",
       "      <td>0.793651</td>\n",
       "    </tr>\n",
       "    <tr>\n",
       "      <th>4</th>\n",
       "      <td>Other</td>\n",
       "      <td>0.347826</td>\n",
       "    </tr>\n",
       "  </tbody>\n",
       "</table>\n",
       "</div>"
      ],
      "text/plain": [
       "    title  survived\n",
       "0  Master  0.575000\n",
       "1    Miss  0.702703\n",
       "2      Mr  0.156673\n",
       "3     Mrs  0.793651\n",
       "4   Other  0.347826"
      ]
     },
     "execution_count": 15,
     "metadata": {},
     "output_type": "execute_result"
    }
   ],
   "source": [
    "#слишком много, ограничимся Mr, Miss, Mrs и другие сделаем other, сделаем 4 категории\n",
    "for dataset in [train_data, test_data]:\n",
    "    dataset['title'] = dataset['title'].replace(['Lady', 'Countess','Capt', 'Col', \\\n",
    " \t'Don', 'Dr', 'Major', 'Rev', 'Sir', 'Jonkheer', 'Dona'], 'Other')\n",
    "\n",
    "    dataset['title'] = dataset['title'].replace('Mlle', 'Miss')\n",
    "    dataset['title'] = dataset['title'].replace('Ms', 'Miss')\n",
    "    dataset['title'] = dataset['title'].replace('Mme', 'Mrs')\n",
    "    \n",
    "train_data[['title', 'survived']].groupby(['title'], as_index=False).mean()"
   ]
  },
  {
   "cell_type": "code",
   "execution_count": 16,
   "id": "53f0211e",
   "metadata": {
    "execution": {
     "iopub.execute_input": "2025-01-30T11:57:42.877735Z",
     "iopub.status.busy": "2025-01-30T11:57:42.877263Z",
     "iopub.status.idle": "2025-01-30T11:57:42.886006Z",
     "shell.execute_reply": "2025-01-30T11:57:42.884690Z"
    },
    "papermill": {
     "duration": 0.022672,
     "end_time": "2025-01-30T11:57:42.888019",
     "exception": false,
     "start_time": "2025-01-30T11:57:42.865347",
     "status": "completed"
    },
    "tags": []
   },
   "outputs": [],
   "source": [
    "# теперь меняем\n",
    "title_mapping = {\"Mr\": 1, \"Miss\": 2, \"Mrs\": 3, \"Master\": 4, \"Other\": 5}\n",
    "for dataset in [train_data, test_data]:\n",
    "    dataset['title'] = dataset['title'].map(title_mapping)\n",
    "    dataset['title'] = dataset['title'].fillna(0)"
   ]
  },
  {
   "cell_type": "code",
   "execution_count": 17,
   "id": "94d17f24",
   "metadata": {
    "execution": {
     "iopub.execute_input": "2025-01-30T11:57:42.911329Z",
     "iopub.status.busy": "2025-01-30T11:57:42.910924Z",
     "iopub.status.idle": "2025-01-30T11:57:42.928580Z",
     "shell.execute_reply": "2025-01-30T11:57:42.927355Z"
    },
    "papermill": {
     "duration": 0.032038,
     "end_time": "2025-01-30T11:57:42.930723",
     "exception": false,
     "start_time": "2025-01-30T11:57:42.898685",
     "status": "completed"
    },
    "tags": []
   },
   "outputs": [
    {
     "data": {
      "text/html": [
       "<div>\n",
       "<style scoped>\n",
       "    .dataframe tbody tr th:only-of-type {\n",
       "        vertical-align: middle;\n",
       "    }\n",
       "\n",
       "    .dataframe tbody tr th {\n",
       "        vertical-align: top;\n",
       "    }\n",
       "\n",
       "    .dataframe thead th {\n",
       "        text-align: right;\n",
       "    }\n",
       "</style>\n",
       "<table border=\"1\" class=\"dataframe\">\n",
       "  <thead>\n",
       "    <tr style=\"text-align: right;\">\n",
       "      <th></th>\n",
       "      <th>passengerid</th>\n",
       "      <th>survived</th>\n",
       "      <th>pclass</th>\n",
       "      <th>name</th>\n",
       "      <th>sex</th>\n",
       "      <th>age</th>\n",
       "      <th>sibsp</th>\n",
       "      <th>parch</th>\n",
       "      <th>fare</th>\n",
       "      <th>embarked</th>\n",
       "      <th>family</th>\n",
       "      <th>is_alone</th>\n",
       "      <th>fareband</th>\n",
       "      <th>ageband</th>\n",
       "      <th>title</th>\n",
       "    </tr>\n",
       "  </thead>\n",
       "  <tbody>\n",
       "    <tr>\n",
       "      <th>0</th>\n",
       "      <td>1</td>\n",
       "      <td>0</td>\n",
       "      <td>3</td>\n",
       "      <td>Braund, Mr. Owen Harris</td>\n",
       "      <td>0</td>\n",
       "      <td>1</td>\n",
       "      <td>1</td>\n",
       "      <td>0</td>\n",
       "      <td>0</td>\n",
       "      <td>0</td>\n",
       "      <td>1</td>\n",
       "      <td>False</td>\n",
       "      <td>(-0.512, 102.4]</td>\n",
       "      <td>(16.0, 32.0]</td>\n",
       "      <td>1</td>\n",
       "    </tr>\n",
       "    <tr>\n",
       "      <th>1</th>\n",
       "      <td>2</td>\n",
       "      <td>1</td>\n",
       "      <td>1</td>\n",
       "      <td>Cumings, Mrs. John Bradley (Florence Briggs Th...</td>\n",
       "      <td>1</td>\n",
       "      <td>2</td>\n",
       "      <td>1</td>\n",
       "      <td>0</td>\n",
       "      <td>0</td>\n",
       "      <td>1</td>\n",
       "      <td>1</td>\n",
       "      <td>False</td>\n",
       "      <td>(-0.512, 102.4]</td>\n",
       "      <td>(32.0, 48.0]</td>\n",
       "      <td>3</td>\n",
       "    </tr>\n",
       "    <tr>\n",
       "      <th>2</th>\n",
       "      <td>3</td>\n",
       "      <td>1</td>\n",
       "      <td>3</td>\n",
       "      <td>Heikkinen, Miss. Laina</td>\n",
       "      <td>1</td>\n",
       "      <td>1</td>\n",
       "      <td>0</td>\n",
       "      <td>0</td>\n",
       "      <td>0</td>\n",
       "      <td>0</td>\n",
       "      <td>0</td>\n",
       "      <td>True</td>\n",
       "      <td>(-0.512, 102.4]</td>\n",
       "      <td>(16.0, 32.0]</td>\n",
       "      <td>2</td>\n",
       "    </tr>\n",
       "    <tr>\n",
       "      <th>3</th>\n",
       "      <td>4</td>\n",
       "      <td>1</td>\n",
       "      <td>1</td>\n",
       "      <td>Futrelle, Mrs. Jacques Heath (Lily May Peel)</td>\n",
       "      <td>1</td>\n",
       "      <td>2</td>\n",
       "      <td>1</td>\n",
       "      <td>0</td>\n",
       "      <td>0</td>\n",
       "      <td>0</td>\n",
       "      <td>1</td>\n",
       "      <td>False</td>\n",
       "      <td>(-0.512, 102.4]</td>\n",
       "      <td>(32.0, 48.0]</td>\n",
       "      <td>3</td>\n",
       "    </tr>\n",
       "    <tr>\n",
       "      <th>4</th>\n",
       "      <td>5</td>\n",
       "      <td>0</td>\n",
       "      <td>3</td>\n",
       "      <td>Allen, Mr. William Henry</td>\n",
       "      <td>0</td>\n",
       "      <td>2</td>\n",
       "      <td>0</td>\n",
       "      <td>0</td>\n",
       "      <td>0</td>\n",
       "      <td>0</td>\n",
       "      <td>0</td>\n",
       "      <td>True</td>\n",
       "      <td>(-0.512, 102.4]</td>\n",
       "      <td>(32.0, 48.0]</td>\n",
       "      <td>1</td>\n",
       "    </tr>\n",
       "  </tbody>\n",
       "</table>\n",
       "</div>"
      ],
      "text/plain": [
       "   passengerid  survived  pclass  \\\n",
       "0            1         0       3   \n",
       "1            2         1       1   \n",
       "2            3         1       3   \n",
       "3            4         1       1   \n",
       "4            5         0       3   \n",
       "\n",
       "                                                name  sex  age  sibsp  parch  \\\n",
       "0                            Braund, Mr. Owen Harris    0    1      1      0   \n",
       "1  Cumings, Mrs. John Bradley (Florence Briggs Th...    1    2      1      0   \n",
       "2                             Heikkinen, Miss. Laina    1    1      0      0   \n",
       "3       Futrelle, Mrs. Jacques Heath (Lily May Peel)    1    2      1      0   \n",
       "4                           Allen, Mr. William Henry    0    2      0      0   \n",
       "\n",
       "   fare  embarked  family  is_alone         fareband       ageband  title  \n",
       "0     0         0       1     False  (-0.512, 102.4]  (16.0, 32.0]      1  \n",
       "1     0         1       1     False  (-0.512, 102.4]  (32.0, 48.0]      3  \n",
       "2     0         0       0      True  (-0.512, 102.4]  (16.0, 32.0]      2  \n",
       "3     0         0       1     False  (-0.512, 102.4]  (32.0, 48.0]      3  \n",
       "4     0         0       0      True  (-0.512, 102.4]  (32.0, 48.0]      1  "
      ]
     },
     "execution_count": 17,
     "metadata": {},
     "output_type": "execute_result"
    }
   ],
   "source": [
    "train_data.head()"
   ]
  },
  {
   "cell_type": "code",
   "execution_count": 18,
   "id": "4280b522",
   "metadata": {
    "execution": {
     "iopub.execute_input": "2025-01-30T11:57:42.953903Z",
     "iopub.status.busy": "2025-01-30T11:57:42.953464Z",
     "iopub.status.idle": "2025-01-30T11:57:42.962972Z",
     "shell.execute_reply": "2025-01-30T11:57:42.961604Z"
    },
    "papermill": {
     "duration": 0.023416,
     "end_time": "2025-01-30T11:57:42.965097",
     "exception": false,
     "start_time": "2025-01-30T11:57:42.941681",
     "status": "completed"
    },
    "tags": []
   },
   "outputs": [],
   "source": [
    "features_drop = ['name', 'sibsp', 'parch']\n",
    "train_data = train_data.drop(features_drop, axis=1)\n",
    "test_data = test_data.drop(features_drop, axis=1)\n",
    "train_data = train_data.drop(['passengerid', 'ageband', 'fareband'], axis=1)"
   ]
  },
  {
   "cell_type": "code",
   "execution_count": 19,
   "id": "8fcd3548",
   "metadata": {
    "execution": {
     "iopub.execute_input": "2025-01-30T11:57:42.987556Z",
     "iopub.status.busy": "2025-01-30T11:57:42.987179Z",
     "iopub.status.idle": "2025-01-30T11:57:42.998627Z",
     "shell.execute_reply": "2025-01-30T11:57:42.997428Z"
    },
    "papermill": {
     "duration": 0.025207,
     "end_time": "2025-01-30T11:57:43.000858",
     "exception": false,
     "start_time": "2025-01-30T11:57:42.975651",
     "status": "completed"
    },
    "tags": []
   },
   "outputs": [
    {
     "data": {
      "text/html": [
       "<div>\n",
       "<style scoped>\n",
       "    .dataframe tbody tr th:only-of-type {\n",
       "        vertical-align: middle;\n",
       "    }\n",
       "\n",
       "    .dataframe tbody tr th {\n",
       "        vertical-align: top;\n",
       "    }\n",
       "\n",
       "    .dataframe thead th {\n",
       "        text-align: right;\n",
       "    }\n",
       "</style>\n",
       "<table border=\"1\" class=\"dataframe\">\n",
       "  <thead>\n",
       "    <tr style=\"text-align: right;\">\n",
       "      <th></th>\n",
       "      <th>survived</th>\n",
       "      <th>pclass</th>\n",
       "      <th>sex</th>\n",
       "      <th>age</th>\n",
       "      <th>fare</th>\n",
       "      <th>embarked</th>\n",
       "      <th>family</th>\n",
       "      <th>is_alone</th>\n",
       "      <th>title</th>\n",
       "    </tr>\n",
       "  </thead>\n",
       "  <tbody>\n",
       "    <tr>\n",
       "      <th>0</th>\n",
       "      <td>0</td>\n",
       "      <td>3</td>\n",
       "      <td>0</td>\n",
       "      <td>1</td>\n",
       "      <td>0</td>\n",
       "      <td>0</td>\n",
       "      <td>1</td>\n",
       "      <td>False</td>\n",
       "      <td>1</td>\n",
       "    </tr>\n",
       "    <tr>\n",
       "      <th>1</th>\n",
       "      <td>1</td>\n",
       "      <td>1</td>\n",
       "      <td>1</td>\n",
       "      <td>2</td>\n",
       "      <td>0</td>\n",
       "      <td>1</td>\n",
       "      <td>1</td>\n",
       "      <td>False</td>\n",
       "      <td>3</td>\n",
       "    </tr>\n",
       "    <tr>\n",
       "      <th>2</th>\n",
       "      <td>1</td>\n",
       "      <td>3</td>\n",
       "      <td>1</td>\n",
       "      <td>1</td>\n",
       "      <td>0</td>\n",
       "      <td>0</td>\n",
       "      <td>0</td>\n",
       "      <td>True</td>\n",
       "      <td>2</td>\n",
       "    </tr>\n",
       "    <tr>\n",
       "      <th>3</th>\n",
       "      <td>1</td>\n",
       "      <td>1</td>\n",
       "      <td>1</td>\n",
       "      <td>2</td>\n",
       "      <td>0</td>\n",
       "      <td>0</td>\n",
       "      <td>1</td>\n",
       "      <td>False</td>\n",
       "      <td>3</td>\n",
       "    </tr>\n",
       "    <tr>\n",
       "      <th>4</th>\n",
       "      <td>0</td>\n",
       "      <td>3</td>\n",
       "      <td>0</td>\n",
       "      <td>2</td>\n",
       "      <td>0</td>\n",
       "      <td>0</td>\n",
       "      <td>0</td>\n",
       "      <td>True</td>\n",
       "      <td>1</td>\n",
       "    </tr>\n",
       "  </tbody>\n",
       "</table>\n",
       "</div>"
      ],
      "text/plain": [
       "   survived  pclass  sex  age  fare  embarked  family  is_alone  title\n",
       "0         0       3    0    1     0         0       1     False      1\n",
       "1         1       1    1    2     0         1       1     False      3\n",
       "2         1       3    1    1     0         0       0      True      2\n",
       "3         1       1    1    2     0         0       1     False      3\n",
       "4         0       3    0    2     0         0       0      True      1"
      ]
     },
     "execution_count": 19,
     "metadata": {},
     "output_type": "execute_result"
    }
   ],
   "source": [
    "train_data.head()"
   ]
  },
  {
   "cell_type": "code",
   "execution_count": 20,
   "id": "30df1821",
   "metadata": {
    "execution": {
     "iopub.execute_input": "2025-01-30T11:57:43.024401Z",
     "iopub.status.busy": "2025-01-30T11:57:43.024074Z",
     "iopub.status.idle": "2025-01-30T11:57:43.033922Z",
     "shell.execute_reply": "2025-01-30T11:57:43.032869Z"
    },
    "papermill": {
     "duration": 0.023734,
     "end_time": "2025-01-30T11:57:43.035991",
     "exception": false,
     "start_time": "2025-01-30T11:57:43.012257",
     "status": "completed"
    },
    "tags": []
   },
   "outputs": [
    {
     "data": {
      "text/plain": [
       "((891, 8), (891,), (418, 8))"
      ]
     },
     "execution_count": 20,
     "metadata": {},
     "output_type": "execute_result"
    }
   ],
   "source": [
    "#переходим к моделям, приведем размерность датасетов к одному\n",
    "X_train = train_data.drop('survived', axis=1)\n",
    "y_train = train_data['survived']\n",
    "\n",
    "X_test = test_data.drop(\"passengerid\", axis=1).copy()\n",
    "\n",
    "X_train.shape, y_train.shape, X_test.shape"
   ]
  },
  {
   "cell_type": "code",
   "execution_count": 21,
   "id": "054336d3",
   "metadata": {
    "execution": {
     "iopub.execute_input": "2025-01-30T11:57:43.060078Z",
     "iopub.status.busy": "2025-01-30T11:57:43.059641Z",
     "iopub.status.idle": "2025-01-30T11:57:45.183239Z",
     "shell.execute_reply": "2025-01-30T11:57:45.181964Z"
    },
    "papermill": {
     "duration": 2.137719,
     "end_time": "2025-01-30T11:57:45.185474",
     "exception": false,
     "start_time": "2025-01-30T11:57:43.047755",
     "status": "completed"
    },
    "tags": []
   },
   "outputs": [],
   "source": [
    "from sklearn.linear_model import LogisticRegression\n",
    "from sklearn.svm import SVC, LinearSVC\n",
    "from sklearn.neighbors import KNeighborsClassifier\n",
    "from sklearn.tree import DecisionTreeClassifier\n",
    "from sklearn.ensemble import RandomForestClassifier\n",
    "from sklearn.naive_bayes import GaussianNB\n",
    "from sklearn.linear_model import Perceptron\n",
    "from sklearn.linear_model import SGDClassifier"
   ]
  },
  {
   "cell_type": "code",
   "execution_count": 22,
   "id": "f3b30747",
   "metadata": {
    "execution": {
     "iopub.execute_input": "2025-01-30T11:57:45.209577Z",
     "iopub.status.busy": "2025-01-30T11:57:45.208918Z",
     "iopub.status.idle": "2025-01-30T11:57:45.254474Z",
     "shell.execute_reply": "2025-01-30T11:57:45.253191Z"
    },
    "papermill": {
     "duration": 0.060043,
     "end_time": "2025-01-30T11:57:45.256425",
     "exception": false,
     "start_time": "2025-01-30T11:57:45.196382",
     "status": "completed"
    },
    "tags": []
   },
   "outputs": [
    {
     "data": {
      "text/plain": [
       "'81.82 percent'"
      ]
     },
     "execution_count": 22,
     "metadata": {},
     "output_type": "execute_result"
    }
   ],
   "source": [
    "#Логистическая регрессия\n",
    "model = LogisticRegression()\n",
    "model.fit(X_train, y_train)\n",
    "y_pred_log_reg = model.predict(X_test)\n",
    "acc_log_reg = round( model.score(X_train, y_train) * 100, 2)\n",
    "str(acc_log_reg) + ' percent'"
   ]
  },
  {
   "cell_type": "code",
   "execution_count": 23,
   "id": "730c33e1",
   "metadata": {
    "execution": {
     "iopub.execute_input": "2025-01-30T11:57:45.284233Z",
     "iopub.status.busy": "2025-01-30T11:57:45.283888Z",
     "iopub.status.idle": "2025-01-30T11:57:45.353158Z",
     "shell.execute_reply": "2025-01-30T11:57:45.352006Z"
    },
    "papermill": {
     "duration": 0.083061,
     "end_time": "2025-01-30T11:57:45.354841",
     "exception": false,
     "start_time": "2025-01-30T11:57:45.271780",
     "status": "completed"
    },
    "tags": []
   },
   "outputs": [
    {
     "data": {
      "text/plain": [
       "'83.61 percent'"
      ]
     },
     "execution_count": 23,
     "metadata": {},
     "output_type": "execute_result"
    }
   ],
   "source": [
    "#Support Vector Machine (SVM)\n",
    "model = SVC()\n",
    "model.fit(X_train, y_train)\n",
    "y_pred_svc = model.predict(X_test)\n",
    "acc_svc = round(model.score(X_train, y_train) * 100, 2)\n",
    "str(acc_svc) + ' percent'"
   ]
  },
  {
   "cell_type": "code",
   "execution_count": 24,
   "id": "664506e3",
   "metadata": {
    "execution": {
     "iopub.execute_input": "2025-01-30T11:57:45.377946Z",
     "iopub.status.busy": "2025-01-30T11:57:45.377533Z",
     "iopub.status.idle": "2025-01-30T11:57:45.435211Z",
     "shell.execute_reply": "2025-01-30T11:57:45.434019Z"
    },
    "papermill": {
     "duration": 0.071213,
     "end_time": "2025-01-30T11:57:45.436872",
     "exception": false,
     "start_time": "2025-01-30T11:57:45.365659",
     "status": "completed"
    },
    "tags": []
   },
   "outputs": [
    {
     "name": "stderr",
     "output_type": "stream",
     "text": [
      "/usr/local/lib/python3.10/dist-packages/sklearn/svm/_base.py:1244: ConvergenceWarning: Liblinear failed to converge, increase the number of iterations.\n",
      "  warnings.warn(\n"
     ]
    },
    {
     "data": {
      "text/plain": [
       "'81.59 percent'"
      ]
     },
     "execution_count": 24,
     "metadata": {},
     "output_type": "execute_result"
    }
   ],
   "source": [
    "#Линейный SVM\n",
    "model = LinearSVC()\n",
    "model.fit(X_train, y_train)\n",
    "y_pred_linear_svc = model.predict(X_test)\n",
    "acc_linear_svc = round(model.score(X_train, y_train) * 100, 2)\n",
    "str(acc_linear_svc) + ' percent'"
   ]
  },
  {
   "cell_type": "code",
   "execution_count": 25,
   "id": "45696240",
   "metadata": {
    "execution": {
     "iopub.execute_input": "2025-01-30T11:57:45.460374Z",
     "iopub.status.busy": "2025-01-30T11:57:45.460050Z",
     "iopub.status.idle": "2025-01-30T11:57:48.198349Z",
     "shell.execute_reply": "2025-01-30T11:57:48.197244Z"
    },
    "papermill": {
     "duration": 2.75261,
     "end_time": "2025-01-30T11:57:48.200536",
     "exception": false,
     "start_time": "2025-01-30T11:57:45.447926",
     "status": "completed"
    },
    "tags": []
   },
   "outputs": [
    {
     "name": "stdout",
     "output_type": "stream",
     "text": [
      "Best accuracy is 84.74% with k = 5\n"
     ]
    },
    {
     "data": {
      "text/plain": [
       "'84.74 percent'"
      ]
     },
     "execution_count": 25,
     "metadata": {},
     "output_type": "execute_result"
    }
   ],
   "source": [
    "#k-ближайших соседей\n",
    "best_accuracy = 0\n",
    "best_k = 0\n",
    "\n",
    "for k in range(5, 50):\n",
    "    model = KNeighborsClassifier(n_neighbors = k)\n",
    "    model.fit(X_train, y_train)\n",
    "    acc_knn = round(model.score(X_train, y_train) * 100, 2)\n",
    "    if acc_knn > best_accuracy:\n",
    "        best_accuracy = acc_knn\n",
    "        best_k = k\n",
    "\n",
    "print(\"Best accuracy is \" + str(best_accuracy) + \"% with k = \" + str(best_k))\n",
    "\n",
    "model = KNeighborsClassifier(n_neighbors = best_k)\n",
    "model.fit(X_train, y_train)\n",
    "y_pred_knn = model.predict(X_test)\n",
    "acc_knn = round(model.score(X_train, y_train) * 100, 2)\n",
    "str(acc_knn) + ' percent'"
   ]
  },
  {
   "cell_type": "code",
   "execution_count": 26,
   "id": "5a835884",
   "metadata": {
    "execution": {
     "iopub.execute_input": "2025-01-30T11:57:48.225312Z",
     "iopub.status.busy": "2025-01-30T11:57:48.224949Z",
     "iopub.status.idle": "2025-01-30T11:57:48.241904Z",
     "shell.execute_reply": "2025-01-30T11:57:48.240770Z"
    },
    "papermill": {
     "duration": 0.03133,
     "end_time": "2025-01-30T11:57:48.243628",
     "exception": false,
     "start_time": "2025-01-30T11:57:48.212298",
     "status": "completed"
    },
    "tags": []
   },
   "outputs": [
    {
     "data": {
      "text/plain": [
       "'86.98 percent'"
      ]
     },
     "execution_count": 26,
     "metadata": {},
     "output_type": "execute_result"
    }
   ],
   "source": [
    "#Решающие деревья (или дерево решений, decision tree)\n",
    "model = DecisionTreeClassifier()\n",
    "model.fit(X_train, y_train)\n",
    "y_pred_decision_tree = model.predict(X_test)\n",
    "acc_decision_tree = round(model.score(X_train, y_train) * 100, 2)\n",
    "str(acc_decision_tree) + ' percent'"
   ]
  },
  {
   "cell_type": "code",
   "execution_count": 27,
   "id": "285cf4d1",
   "metadata": {
    "execution": {
     "iopub.execute_input": "2025-01-30T11:57:48.267920Z",
     "iopub.status.busy": "2025-01-30T11:57:48.267375Z",
     "iopub.status.idle": "2025-01-30T11:57:59.785883Z",
     "shell.execute_reply": "2025-01-30T11:57:59.784945Z"
    },
    "papermill": {
     "duration": 11.532512,
     "end_time": "2025-01-30T11:57:59.787697",
     "exception": false,
     "start_time": "2025-01-30T11:57:48.255185",
     "status": "completed"
    },
    "tags": []
   },
   "outputs": [
    {
     "name": "stdout",
     "output_type": "stream",
     "text": [
      "Best accuracy is 86.98% with n_estimators = 12, max_depth = 14 and random_state = 2\n"
     ]
    },
    {
     "data": {
      "text/plain": [
       "'86.98 percent'"
      ]
     },
     "execution_count": 27,
     "metadata": {},
     "output_type": "execute_result"
    }
   ],
   "source": [
    "#Случайный лес (random forest)\n",
    "best_accuracy = 0\n",
    "best_n = 0\n",
    "best_max_depth = 0\n",
    "best_random_state = 0\n",
    "\n",
    "for n in range(1, 15):\n",
    "    for depth in range(1, 15):\n",
    "        for rs in range(3):\n",
    "            model = RandomForestClassifier(n_estimators=n, max_depth=depth, random_state=rs)\n",
    "            model.fit(X_train, y_train)\n",
    "            acc_random_forest = round(model.score(X_train, y_train) * 100, 2)\n",
    "            if acc_random_forest > best_accuracy:\n",
    "                best_accuracy = acc_random_forest\n",
    "                best_n = n\n",
    "                best_max_depth = depth\n",
    "                best_random_state = rs\n",
    "\n",
    "print(\"Best accuracy is \" + str(best_accuracy) + \"% with n_estimators = \" + str(best_n) + \", max_depth = \" + str(best_max_depth) + \" and random_state = \" + str(best_random_state))\n",
    "\n",
    "model = RandomForestClassifier(n_estimators=best_n, max_depth=best_max_depth, random_state=best_random_state)\n",
    "model.fit(X_train, y_train)\n",
    "y_pred_random_forest = model.predict(X_test)\n",
    "acc_random_forest = round(model.score(X_train, y_train) * 100, 2)\n",
    "str(acc_random_forest) + ' percent'"
   ]
  },
  {
   "cell_type": "code",
   "execution_count": 28,
   "id": "4bf2255c",
   "metadata": {
    "execution": {
     "iopub.execute_input": "2025-01-30T11:57:59.812093Z",
     "iopub.status.busy": "2025-01-30T11:57:59.811658Z",
     "iopub.status.idle": "2025-01-30T12:02:33.305909Z",
     "shell.execute_reply": "2025-01-30T12:02:33.304488Z"
    },
    "papermill": {
     "duration": 273.520344,
     "end_time": "2025-01-30T12:02:33.319573",
     "exception": false,
     "start_time": "2025-01-30T11:57:59.799229",
     "status": "completed"
    },
    "tags": []
   },
   "outputs": [
    {
     "name": "stdout",
     "output_type": "stream",
     "text": [
      "Best accuracy is 85.52% with iterations = 18, depth = 8 and random_seed = 8 and learning_rate = 0.4\n"
     ]
    },
    {
     "data": {
      "text/plain": [
       "'85.52 percent'"
      ]
     },
     "execution_count": 28,
     "metadata": {},
     "output_type": "execute_result"
    }
   ],
   "source": [
    "#CatBoostClassifier\n",
    "from catboost import CatBoostClassifier\n",
    "\n",
    "best_accuracy = 0\n",
    "best_n = 0\n",
    "best_max_depth = 0\n",
    "best_random_state = 0\n",
    "best_learning_rate = 0\n",
    "\n",
    "for n in range(1, 20):\n",
    "    for depth in range(1, 11):\n",
    "        for rs in range(10):\n",
    "            for lr in np.arange(0.1, 0.5, 0.1):\n",
    "                model = CatBoostClassifier(iterations=n, depth=depth, random_seed=rs, learning_rate=lr, verbose=False)\n",
    "                model.fit(X_train, y_train)\n",
    "                acc_catboost = round(model.score(X_train, y_train) * 100, 2)\n",
    "                if acc_catboost > best_accuracy:\n",
    "                    best_accuracy = acc_catboost\n",
    "                    best_n = n\n",
    "                    best_max_depth = depth\n",
    "                    best_random_state = rs\n",
    "                    best_learning_rate = lr\n",
    "\n",
    "print(\"Best accuracy is \" + str(best_accuracy) + \"% with iterations = \" + str(best_n) + \", depth = \" + str(best_max_depth) + \" and random_seed = \" + str(best_random_state) + \" and learning_rate = \" + str(best_learning_rate))\n",
    "\n",
    "model = CatBoostClassifier(iterations=best_n, depth=best_max_depth, random_seed=best_random_state, learning_rate=lr, verbose=False)\n",
    "model.fit(X_train, y_train)\n",
    "y_pred_catboost = model.predict(X_test)\n",
    "acc_catboost = round(model.score(X_train, y_train) * 100, 2)\n",
    "str(acc_catboost) + ' percent'"
   ]
  },
  {
   "cell_type": "code",
   "execution_count": 29,
   "id": "abfc2dc3",
   "metadata": {
    "execution": {
     "iopub.execute_input": "2025-01-30T12:02:33.344497Z",
     "iopub.status.busy": "2025-01-30T12:02:33.344171Z",
     "iopub.status.idle": "2025-01-30T12:02:33.364597Z",
     "shell.execute_reply": "2025-01-30T12:02:33.363332Z"
    },
    "papermill": {
     "duration": 0.035265,
     "end_time": "2025-01-30T12:02:33.366507",
     "exception": false,
     "start_time": "2025-01-30T12:02:33.331242",
     "status": "completed"
    },
    "tags": []
   },
   "outputs": [
    {
     "data": {
      "text/plain": [
       "'80.36 percent'"
      ]
     },
     "execution_count": 29,
     "metadata": {},
     "output_type": "execute_result"
    }
   ],
   "source": [
    "#Gaussian Naive Bayes\n",
    "model = GaussianNB()\n",
    "model.fit(X_train, y_train)\n",
    "y_pred_gnb = model.predict(X_test)\n",
    "acc_gnb = round(model.score(X_train, y_train) * 100, 2)\n",
    "str(acc_gnb) + ' percent'"
   ]
  },
  {
   "cell_type": "code",
   "execution_count": 30,
   "id": "2e54b0da",
   "metadata": {
    "execution": {
     "iopub.execute_input": "2025-01-30T12:02:33.392113Z",
     "iopub.status.busy": "2025-01-30T12:02:33.391668Z",
     "iopub.status.idle": "2025-01-30T12:02:35.331457Z",
     "shell.execute_reply": "2025-01-30T12:02:35.330156Z"
    },
    "papermill": {
     "duration": 1.954964,
     "end_time": "2025-01-30T12:02:35.333581",
     "exception": false,
     "start_time": "2025-01-30T12:02:33.378617",
     "status": "completed"
    },
    "tags": []
   },
   "outputs": [
    {
     "name": "stdout",
     "output_type": "stream",
     "text": [
      "Best accuracy is 81.93% with max_iter = 166\n"
     ]
    },
    {
     "data": {
      "text/plain": [
       "'81.93 percent'"
      ]
     },
     "execution_count": 30,
     "metadata": {},
     "output_type": "execute_result"
    }
   ],
   "source": [
    "#Перцептрон (perceptron)\n",
    "best_accuracy = 0\n",
    "best_iter = 0\n",
    "\n",
    "for i in range(2, 200):\n",
    "    model = Perceptron(max_iter=i, tol=None)\n",
    "    model.fit(X_train, y_train)\n",
    "    acc_perceptron = round(model.score(X_train, y_train) * 100, 2)\n",
    "    if acc_perceptron > best_accuracy:\n",
    "        best_accuracy = acc_perceptron\n",
    "        best_iter = i\n",
    "\n",
    "print(\"Best accuracy is \" + str(best_accuracy) + \"% with max_iter = \" + str(best_iter))\n",
    "\n",
    "model = Perceptron(max_iter=best_iter, tol=None)\n",
    "model.fit(X_train, y_train)\n",
    "y_pred_perceptron = model.predict(X_test)\n",
    "acc_perceptron = round(model.score(X_train, y_train) * 100, 2)\n",
    "str(acc_perceptron) + ' percent'"
   ]
  },
  {
   "cell_type": "code",
   "execution_count": 31,
   "id": "b2b51311",
   "metadata": {
    "execution": {
     "iopub.execute_input": "2025-01-30T12:02:35.359275Z",
     "iopub.status.busy": "2025-01-30T12:02:35.358888Z",
     "iopub.status.idle": "2025-01-30T12:02:39.403806Z",
     "shell.execute_reply": "2025-01-30T12:02:39.402331Z"
    },
    "papermill": {
     "duration": 4.060178,
     "end_time": "2025-01-30T12:02:39.406060",
     "exception": false,
     "start_time": "2025-01-30T12:02:35.345882",
     "status": "completed"
    },
    "tags": []
   },
   "outputs": [
    {
     "name": "stdout",
     "output_type": "stream",
     "text": [
      "Best accuracy is 82.15% with max_iter = 232\n"
     ]
    },
    {
     "data": {
      "text/plain": [
       "'82.15 percent'"
      ]
     },
     "execution_count": 31,
     "metadata": {},
     "output_type": "execute_result"
    }
   ],
   "source": [
    "#Стохастический градиентный спуск (SGD)\n",
    "best_accuracy = 0\n",
    "best_iter = 0\n",
    "\n",
    "for i in range(2, 300):\n",
    "    model = SGDClassifier(max_iter=i, tol=None, random_state=1)  # добавляем random_state и устанавливаем tol\n",
    "    model.fit(X_train, y_train)\n",
    "    acc_sgd = round(model.score(X_train, y_train) * 100, 2)\n",
    "    if acc_sgd > best_accuracy:\n",
    "        best_accuracy = acc_sgd\n",
    "        best_iter = i\n",
    "\n",
    "print(\"Best accuracy is \" + str(best_accuracy) + \"% with max_iter = \" + str(best_iter))\n",
    "\n",
    "model = SGDClassifier(max_iter=best_iter, tol=None, random_state=1)\n",
    "model.fit(X_train, y_train)\n",
    "y_pred_sgd = model.predict(X_test)\n",
    "acc_sgd = round(model.score(X_train, y_train) * 100, 2)\n",
    "str(acc_sgd) + ' percent'"
   ]
  },
  {
   "cell_type": "code",
   "execution_count": 32,
   "id": "a27b0fa2",
   "metadata": {
    "execution": {
     "iopub.execute_input": "2025-01-30T12:02:39.432128Z",
     "iopub.status.busy": "2025-01-30T12:02:39.431757Z",
     "iopub.status.idle": "2025-01-30T12:03:08.613421Z",
     "shell.execute_reply": "2025-01-30T12:03:08.612175Z"
    },
    "papermill": {
     "duration": 29.19636,
     "end_time": "2025-01-30T12:03:08.615189",
     "exception": false,
     "start_time": "2025-01-30T12:02:39.418829",
     "status": "completed"
    },
    "tags": []
   },
   "outputs": [
    {
     "name": "stdout",
     "output_type": "stream",
     "text": [
      "Best accuracy is 86.98% with n_estimators = 2, learning_rate = 0.3500000000000001 and max_depth = 12\n"
     ]
    },
    {
     "data": {
      "text/plain": [
       "'86.98 percent'"
      ]
     },
     "execution_count": 32,
     "metadata": {},
     "output_type": "execute_result"
    }
   ],
   "source": [
    "#GradientBoostingClassifier\n",
    "from sklearn.ensemble import GradientBoostingClassifier\n",
    "\n",
    "best_accuracy = 0\n",
    "best_n_estimators = 0\n",
    "best_learning_rate = 0\n",
    "best_max_depth = 0\n",
    "\n",
    "for n in range(2, 10):\n",
    "    for lr in np.arange(0.1, 0.5, 0.05):\n",
    "        for depth in range(1, 20):\n",
    "            model = GradientBoostingClassifier(n_estimators=n, learning_rate=lr, max_depth=depth, random_state=0)\n",
    "            model.fit(X_train, y_train)\n",
    "            acc_gbc = round(model.score(X_train, y_train) * 100, 2)\n",
    "            if acc_gbc > best_accuracy:\n",
    "                best_accuracy = acc_gbc\n",
    "                best_n_estimators = n\n",
    "                best_learning_rate = lr\n",
    "                best_max_depth = depth\n",
    "\n",
    "print(\"Best accuracy is \" + str(best_accuracy) + \"% with n_estimators = \" + str(best_n_estimators) + \", learning_rate = \" + str(best_learning_rate) + \" and max_depth = \" + str(best_max_depth))\n",
    "\n",
    "model = GradientBoostingClassifier(n_estimators=best_n_estimators, learning_rate=best_learning_rate, max_depth=best_max_depth, random_state=0)\n",
    "model.fit(X_train, y_train)\n",
    "predictions = model.predict(X_test)\n",
    "acc_gbc = round(model.score(X_train, y_train) * 100, 2)\n",
    "str(acc_gbc) + ' percent'\n"
   ]
  },
  {
   "cell_type": "code",
   "execution_count": 33,
   "id": "0b457c02",
   "metadata": {
    "execution": {
     "iopub.execute_input": "2025-01-30T12:03:08.641039Z",
     "iopub.status.busy": "2025-01-30T12:03:08.640658Z",
     "iopub.status.idle": "2025-01-30T12:04:00.074746Z",
     "shell.execute_reply": "2025-01-30T12:04:00.073810Z"
    },
    "papermill": {
     "duration": 51.461808,
     "end_time": "2025-01-30T12:04:00.089212",
     "exception": false,
     "start_time": "2025-01-30T12:03:08.627404",
     "status": "completed"
    },
    "tags": []
   },
   "outputs": [
    {
     "name": "stdout",
     "output_type": "stream",
     "text": [
      "Best accuracy is 86.31% with n_estimators = 27, learning_rate = 0.4 and max_depth = 11\n"
     ]
    },
    {
     "data": {
      "text/plain": [
       "'86.31 percent'"
      ]
     },
     "execution_count": 33,
     "metadata": {},
     "output_type": "execute_result"
    }
   ],
   "source": [
    "#xgboost\n",
    "import xgboost as xgb\n",
    "\n",
    "best_accuracy = 0\n",
    "best_n_estimators = 0\n",
    "best_learning_rate = 0\n",
    "best_max_depth = 0\n",
    "\n",
    "for n in range(2, 30):\n",
    "    for lr in np.arange(0.1, 0.5, 0.1):\n",
    "        for depth in range(1, 20):\n",
    "            model = xgb.XGBClassifier(n_estimators=n, learning_rate=lr, max_depth=depth, use_label_encoder=False, eval_metric='mlogloss', random_state=0)\n",
    "            model.fit(X_train, y_train)\n",
    "            acc_xgb = round(model.score(X_train, y_train) * 100, 2)\n",
    "            if acc_xgb > best_accuracy:\n",
    "                best_accuracy = acc_xgb\n",
    "                best_n_estimators = n\n",
    "                best_learning_rate = lr\n",
    "                best_max_depth = depth\n",
    "\n",
    "print(\"Best accuracy is \" + str(best_accuracy) + \"% with n_estimators = \" + str(best_n_estimators) + \", learning_rate = \" + str(best_learning_rate) + \" and max_depth = \" + str(best_max_depth))\n",
    "\n",
    "model = xgb.XGBClassifier(n_estimators=best_n_estimators, learning_rate=best_learning_rate, max_depth=best_max_depth, use_label_encoder=False, eval_metric='mlogloss', random_state=0)\n",
    "model.fit(X_train, y_train)\n",
    "predictions = model.predict(X_test)\n",
    "acc_xgb = round(model.score(X_train, y_train) * 100, 2)\n",
    "str(acc_xgb) + ' percent'"
   ]
  },
  {
   "cell_type": "code",
   "execution_count": 34,
   "id": "33252c6c",
   "metadata": {
    "execution": {
     "iopub.execute_input": "2025-01-30T12:04:00.115629Z",
     "iopub.status.busy": "2025-01-30T12:04:00.115270Z",
     "iopub.status.idle": "2025-01-30T12:04:19.146699Z",
     "shell.execute_reply": "2025-01-30T12:04:19.145334Z"
    },
    "papermill": {
     "duration": 19.04654,
     "end_time": "2025-01-30T12:04:19.148568",
     "exception": false,
     "start_time": "2025-01-30T12:04:00.102028",
     "status": "completed"
    },
    "tags": []
   },
   "outputs": [
    {
     "name": "stderr",
     "output_type": "stream",
     "text": [
      "/usr/local/lib/python3.10/dist-packages/keras/src/layers/core/dense.py:87: UserWarning: Do not pass an `input_shape`/`input_dim` argument to a layer. When using Sequential models, prefer using an `Input(shape)` object as the first layer in the model instead.\n",
      "  super().__init__(activity_regularizer=activity_regularizer, **kwargs)\n"
     ]
    },
    {
     "name": "stdout",
     "output_type": "stream",
     "text": [
      "Epoch 1/20\n",
      "\u001b[1m14/14\u001b[0m \u001b[32m━━━━━━━━━━━━━━━━━━━━\u001b[0m\u001b[37m\u001b[0m \u001b[1m2s\u001b[0m 3ms/step - accuracy: 0.6521 - loss: 0.6209\n",
      "Epoch 2/20\n",
      "\u001b[1m14/14\u001b[0m \u001b[32m━━━━━━━━━━━━━━━━━━━━\u001b[0m\u001b[37m\u001b[0m \u001b[1m0s\u001b[0m 2ms/step - accuracy: 0.7870 - loss: 0.4694 \n",
      "Epoch 3/20\n",
      "\u001b[1m14/14\u001b[0m \u001b[32m━━━━━━━━━━━━━━━━━━━━\u001b[0m\u001b[37m\u001b[0m \u001b[1m0s\u001b[0m 2ms/step - accuracy: 0.7797 - loss: 0.4798 \n",
      "Epoch 4/20\n",
      "\u001b[1m14/14\u001b[0m \u001b[32m━━━━━━━━━━━━━━━━━━━━\u001b[0m\u001b[37m\u001b[0m \u001b[1m0s\u001b[0m 2ms/step - accuracy: 0.8208 - loss: 0.4346 \n",
      "Epoch 5/20\n",
      "\u001b[1m14/14\u001b[0m \u001b[32m━━━━━━━━━━━━━━━━━━━━\u001b[0m\u001b[37m\u001b[0m \u001b[1m0s\u001b[0m 2ms/step - accuracy: 0.8194 - loss: 0.4229 \n",
      "Epoch 6/20\n",
      "\u001b[1m14/14\u001b[0m \u001b[32m━━━━━━━━━━━━━━━━━━━━\u001b[0m\u001b[37m\u001b[0m \u001b[1m0s\u001b[0m 2ms/step - accuracy: 0.8364 - loss: 0.3948 \n",
      "Epoch 7/20\n",
      "\u001b[1m14/14\u001b[0m \u001b[32m━━━━━━━━━━━━━━━━━━━━\u001b[0m\u001b[37m\u001b[0m \u001b[1m0s\u001b[0m 2ms/step - accuracy: 0.8360 - loss: 0.4262 \n",
      "Epoch 8/20\n",
      "\u001b[1m14/14\u001b[0m \u001b[32m━━━━━━━━━━━━━━━━━━━━\u001b[0m\u001b[37m\u001b[0m \u001b[1m0s\u001b[0m 2ms/step - accuracy: 0.8192 - loss: 0.4355 \n",
      "Epoch 9/20\n",
      "\u001b[1m14/14\u001b[0m \u001b[32m━━━━━━━━━━━━━━━━━━━━\u001b[0m\u001b[37m\u001b[0m \u001b[1m0s\u001b[0m 2ms/step - accuracy: 0.8416 - loss: 0.3904 \n",
      "Epoch 10/20\n",
      "\u001b[1m14/14\u001b[0m \u001b[32m━━━━━━━━━━━━━━━━━━━━\u001b[0m\u001b[37m\u001b[0m \u001b[1m0s\u001b[0m 2ms/step - accuracy: 0.8376 - loss: 0.3933 \n",
      "Epoch 11/20\n",
      "\u001b[1m14/14\u001b[0m \u001b[32m━━━━━━━━━━━━━━━━━━━━\u001b[0m\u001b[37m\u001b[0m \u001b[1m0s\u001b[0m 2ms/step - accuracy: 0.8360 - loss: 0.3967 \n",
      "Epoch 12/20\n",
      "\u001b[1m14/14\u001b[0m \u001b[32m━━━━━━━━━━━━━━━━━━━━\u001b[0m\u001b[37m\u001b[0m \u001b[1m0s\u001b[0m 2ms/step - accuracy: 0.8335 - loss: 0.3950 \n",
      "Epoch 13/20\n",
      "\u001b[1m14/14\u001b[0m \u001b[32m━━━━━━━━━━━━━━━━━━━━\u001b[0m\u001b[37m\u001b[0m \u001b[1m0s\u001b[0m 2ms/step - accuracy: 0.8307 - loss: 0.3926 \n",
      "Epoch 14/20\n",
      "\u001b[1m14/14\u001b[0m \u001b[32m━━━━━━━━━━━━━━━━━━━━\u001b[0m\u001b[37m\u001b[0m \u001b[1m0s\u001b[0m 2ms/step - accuracy: 0.8506 - loss: 0.3748 \n",
      "Epoch 15/20\n",
      "\u001b[1m14/14\u001b[0m \u001b[32m━━━━━━━━━━━━━━━━━━━━\u001b[0m\u001b[37m\u001b[0m \u001b[1m0s\u001b[0m 2ms/step - accuracy: 0.8286 - loss: 0.4086 \n",
      "Epoch 16/20\n",
      "\u001b[1m14/14\u001b[0m \u001b[32m━━━━━━━━━━━━━━━━━━━━\u001b[0m\u001b[37m\u001b[0m \u001b[1m0s\u001b[0m 2ms/step - accuracy: 0.8516 - loss: 0.3745 \n",
      "Epoch 17/20\n",
      "\u001b[1m14/14\u001b[0m \u001b[32m━━━━━━━━━━━━━━━━━━━━\u001b[0m\u001b[37m\u001b[0m \u001b[1m0s\u001b[0m 2ms/step - accuracy: 0.8353 - loss: 0.4185 \n",
      "Epoch 18/20\n",
      "\u001b[1m14/14\u001b[0m \u001b[32m━━━━━━━━━━━━━━━━━━━━\u001b[0m\u001b[37m\u001b[0m \u001b[1m0s\u001b[0m 3ms/step - accuracy: 0.8297 - loss: 0.4003 \n",
      "Epoch 19/20\n",
      "\u001b[1m14/14\u001b[0m \u001b[32m━━━━━━━━━━━━━━━━━━━━\u001b[0m\u001b[37m\u001b[0m \u001b[1m0s\u001b[0m 2ms/step - accuracy: 0.8267 - loss: 0.3978 \n",
      "Epoch 20/20\n",
      "\u001b[1m14/14\u001b[0m \u001b[32m━━━━━━━━━━━━━━━━━━━━\u001b[0m\u001b[37m\u001b[0m \u001b[1m0s\u001b[0m 2ms/step - accuracy: 0.8180 - loss: 0.4113 \n"
     ]
    },
    {
     "data": {
      "text/plain": [
       "'83.84 percent'"
      ]
     },
     "execution_count": 34,
     "metadata": {},
     "output_type": "execute_result"
    }
   ],
   "source": [
    "#TensorFlow\n",
    "from keras.models import Sequential\n",
    "from keras.layers import Dense\n",
    "from keras.utils import to_categorical\n",
    "from keras.layers import Dropout, BatchNormalization\n",
    "from keras.optimizers import Adam\n",
    "\n",
    "# Конвертация целевой переменной в категориальный формат\n",
    "X_train = X_train.astype('float32')\n",
    "y_train_cat = to_categorical(y_train)\n",
    "y_train_cat = y_train_cat.astype('float32')\n",
    "\n",
    "# Создание модели\n",
    "dropout = 0.01\n",
    "activation_name = 'relu'\n",
    "model = Sequential()\n",
    "model.add(Dense(64, input_dim=X_train.shape[1], activation=activation_name))\n",
    "model.add(Dropout(dropout))\n",
    "model.add(Dense(32, activation=activation_name))\n",
    "model.add(Dropout(dropout))\n",
    "model.add(Dense(16, activation=activation_name))\n",
    "model.add(Dropout(dropout))\n",
    "model.add(Dense(y_train_cat.shape[1], activation='softmax'))\n",
    "\n",
    "# Компиляция модели\n",
    "opt = Adam(learning_rate=0.01)\n",
    "model.compile(loss='categorical_crossentropy', optimizer=opt, metrics=['accuracy'])\n",
    "\n",
    "# Обучение модели\n",
    "history = model.fit(X_train, y_train_cat, epochs=20, batch_size=64)\n",
    "\n",
    "# Получение финальной точности\n",
    "acc_tf = round(history.history['accuracy'][-1] * 100, 2)\n",
    "str(acc_tf) + ' percent'"
   ]
  },
  {
   "cell_type": "code",
   "execution_count": 35,
   "id": "c92c3c84",
   "metadata": {
    "execution": {
     "iopub.execute_input": "2025-01-30T12:04:19.183435Z",
     "iopub.status.busy": "2025-01-30T12:04:19.182740Z",
     "iopub.status.idle": "2025-01-30T12:04:19.196758Z",
     "shell.execute_reply": "2025-01-30T12:04:19.195504Z"
    },
    "papermill": {
     "duration": 0.033717,
     "end_time": "2025-01-30T12:04:19.198498",
     "exception": false,
     "start_time": "2025-01-30T12:04:19.164781",
     "status": "completed"
    },
    "tags": []
   },
   "outputs": [
    {
     "data": {
      "text/html": [
       "<div>\n",
       "<style scoped>\n",
       "    .dataframe tbody tr th:only-of-type {\n",
       "        vertical-align: middle;\n",
       "    }\n",
       "\n",
       "    .dataframe tbody tr th {\n",
       "        vertical-align: top;\n",
       "    }\n",
       "\n",
       "    .dataframe thead th {\n",
       "        text-align: right;\n",
       "    }\n",
       "</style>\n",
       "<table border=\"1\" class=\"dataframe\">\n",
       "  <thead>\n",
       "    <tr style=\"text-align: right;\">\n",
       "      <th></th>\n",
       "      <th>Model</th>\n",
       "      <th>Score</th>\n",
       "    </tr>\n",
       "  </thead>\n",
       "  <tbody>\n",
       "    <tr>\n",
       "      <th>4</th>\n",
       "      <td>Decision Tree</td>\n",
       "      <td>86.98</td>\n",
       "    </tr>\n",
       "    <tr>\n",
       "      <th>5</th>\n",
       "      <td>Random Forest</td>\n",
       "      <td>86.98</td>\n",
       "    </tr>\n",
       "    <tr>\n",
       "      <th>9</th>\n",
       "      <td>Gradient Boosting Classifier</td>\n",
       "      <td>86.98</td>\n",
       "    </tr>\n",
       "    <tr>\n",
       "      <th>11</th>\n",
       "      <td>xgboost</td>\n",
       "      <td>86.31</td>\n",
       "    </tr>\n",
       "    <tr>\n",
       "      <th>10</th>\n",
       "      <td>Cat Boost Classifier</td>\n",
       "      <td>85.52</td>\n",
       "    </tr>\n",
       "    <tr>\n",
       "      <th>3</th>\n",
       "      <td>KNN</td>\n",
       "      <td>84.74</td>\n",
       "    </tr>\n",
       "    <tr>\n",
       "      <th>12</th>\n",
       "      <td>TensorFlow</td>\n",
       "      <td>83.84</td>\n",
       "    </tr>\n",
       "    <tr>\n",
       "      <th>1</th>\n",
       "      <td>Support Vector Machines</td>\n",
       "      <td>83.61</td>\n",
       "    </tr>\n",
       "    <tr>\n",
       "      <th>8</th>\n",
       "      <td>Stochastic Gradient Decent</td>\n",
       "      <td>82.15</td>\n",
       "    </tr>\n",
       "    <tr>\n",
       "      <th>7</th>\n",
       "      <td>Perceptron</td>\n",
       "      <td>81.93</td>\n",
       "    </tr>\n",
       "    <tr>\n",
       "      <th>0</th>\n",
       "      <td>Logistic Regression</td>\n",
       "      <td>81.82</td>\n",
       "    </tr>\n",
       "    <tr>\n",
       "      <th>2</th>\n",
       "      <td>Linear SVC</td>\n",
       "      <td>81.59</td>\n",
       "    </tr>\n",
       "    <tr>\n",
       "      <th>6</th>\n",
       "      <td>Naive Bayes</td>\n",
       "      <td>80.36</td>\n",
       "    </tr>\n",
       "  </tbody>\n",
       "</table>\n",
       "</div>"
      ],
      "text/plain": [
       "                           Model  Score\n",
       "4                  Decision Tree  86.98\n",
       "5                  Random Forest  86.98\n",
       "9   Gradient Boosting Classifier  86.98\n",
       "11                       xgboost  86.31\n",
       "10          Cat Boost Classifier  85.52\n",
       "3                            KNN  84.74\n",
       "12                    TensorFlow  83.84\n",
       "1        Support Vector Machines  83.61\n",
       "8     Stochastic Gradient Decent  82.15\n",
       "7                     Perceptron  81.93\n",
       "0            Logistic Regression  81.82\n",
       "2                     Linear SVC  81.59\n",
       "6                    Naive Bayes  80.36"
      ]
     },
     "execution_count": 35,
     "metadata": {},
     "output_type": "execute_result"
    }
   ],
   "source": [
    "#сравним получившиеся модели\n",
    "models = pd.DataFrame({\n",
    "    'Model': ['Logistic Regression', 'Support Vector Machines', 'Linear SVC', \n",
    "              'KNN', 'Decision Tree', 'Random Forest', 'Naive Bayes', \n",
    "              'Perceptron', 'Stochastic Gradient Decent', 'Gradient Boosting Classifier', 'Cat Boost Classifier',\n",
    "             'xgboost', 'TensorFlow'],\n",
    "    \n",
    "    'Score': [acc_log_reg, acc_svc, acc_linear_svc, \n",
    "              acc_knn,  acc_decision_tree, acc_random_forest, acc_gnb, \n",
    "              acc_perceptron, acc_sgd, acc_gbc, acc_catboost, acc_xgb,\n",
    "              acc_tf]\n",
    "    })\n",
    "\n",
    "models.sort_values(by='Score', ascending=False)"
   ]
  },
  {
   "cell_type": "code",
   "execution_count": 36,
   "id": "2805b3c6",
   "metadata": {
    "execution": {
     "iopub.execute_input": "2025-01-30T12:04:19.233373Z",
     "iopub.status.busy": "2025-01-30T12:04:19.233026Z",
     "iopub.status.idle": "2025-01-30T12:04:20.337540Z",
     "shell.execute_reply": "2025-01-30T12:04:20.336247Z"
    },
    "papermill": {
     "duration": 1.124165,
     "end_time": "2025-01-30T12:04:20.339508",
     "exception": false,
     "start_time": "2025-01-30T12:04:19.215343",
     "status": "completed"
    },
    "tags": []
   },
   "outputs": [
    {
     "name": "stdout",
     "output_type": "stream",
     "text": [
      "Accuracy: 86 % \n",
      "\n"
     ]
    },
    {
     "data": {
      "text/plain": [
       "<Axes: >"
      ]
     },
     "execution_count": 36,
     "metadata": {},
     "output_type": "execute_result"
    },
    {
     "data": {
      "image/png": "[encoded data removed]",
      "text/plain": [
       "<Figure size 1500x500 with 4 Axes>"
      ]
     },
     "metadata": {},
     "output_type": "display_data"
    }
   ],
   "source": [
    "#Матрица неточностей/ошибок (confusion matrix)\n",
    "from sklearn.metrics import confusion_matrix\n",
    "import matplotlib.pyplot as plt\n",
    "import itertools\n",
    "import seaborn as sns\n",
    "sns.set()\n",
    "\n",
    "#n_estimators = 8, max_depth = 11 and random_state = 2\n",
    "model = RandomForestClassifier(n_estimators=8, max_depth=11, random_state=2)\n",
    "model.fit(X_train, y_train)\n",
    "y_pred_random_forest_training_set = model.predict(X_train)\n",
    "acc_random_forest = round(model.score(X_train, y_train) * 100, 2)\n",
    "print(\"Accuracy: %i %% \\n\"%acc_random_forest)\n",
    "\n",
    "class_names = ['survived', 'not_survived']\n",
    "\n",
    "# Compute confusion matrix\n",
    "cnf_matrix = confusion_matrix(y_train, y_pred_random_forest_training_set)\n",
    "\n",
    "cnf_matrix_percent = cnf_matrix.astype('float') / cnf_matrix.sum(axis=1)[:, np.newaxis]\n",
    "\n",
    "\n",
    "true_class_names = ['true_survived', 'true_not_survived']\n",
    "predicted_class_names = ['predicted_survived', 'predicted_not_survived']\n",
    "\n",
    "df_cnf_matrix = pd.DataFrame(cnf_matrix, \n",
    "                             index = true_class_names,\n",
    "                             columns = predicted_class_names)\n",
    "\n",
    "df_cnf_matrix_percent = pd.DataFrame(cnf_matrix_percent, \n",
    "                                     index = true_class_names,\n",
    "                                     columns = predicted_class_names)\n",
    "\n",
    "plt.figure(figsize = (15,5))\n",
    "\n",
    "plt.subplot(121)\n",
    "sns.heatmap(df_cnf_matrix, annot=True, fmt='d')\n",
    "\n",
    "plt.subplot(122)\n",
    "sns.heatmap(df_cnf_matrix_percent, annot=True)"
   ]
  },
  {
   "cell_type": "code",
   "execution_count": 37,
   "id": "790741bf",
   "metadata": {
    "execution": {
     "iopub.execute_input": "2025-01-30T12:04:20.376307Z",
     "iopub.status.busy": "2025-01-30T12:04:20.375620Z",
     "iopub.status.idle": "2025-01-30T12:04:20.413270Z",
     "shell.execute_reply": "2025-01-30T12:04:20.411772Z"
    },
    "papermill": {
     "duration": 0.058493,
     "end_time": "2025-01-30T12:04:20.415327",
     "exception": false,
     "start_time": "2025-01-30T12:04:20.356834",
     "status": "completed"
    },
    "tags": []
   },
   "outputs": [
    {
     "name": "stdout",
     "output_type": "stream",
     "text": [
      "Your submission was successfully saved!\n"
     ]
    }
   ],
   "source": [
    "# Подготовка данных\n",
    "features = X_train.columns.tolist()  # Получаем список признаков\n",
    "X_test = test_data[features]  # Убедимся, что X_test содержит те же признаки, что и X_train\n",
    "\n",
    "# Обучение модели\n",
    "#n_estimators = 8, max_depth = 11 and random_state = 2\n",
    "model = RandomForestClassifier(n_estimators=8, max_depth=11, random_state=2)\n",
    "model.fit(X_train, y_train)\n",
    "\n",
    "# Предсказание на тестовых данных\n",
    "predictions = model.predict(X_test)\n",
    "\n",
    "# Сохранение предсказаний в CSV файл\n",
    "output = pd.DataFrame({'PassengerId': test_data.passengerid, 'Survived': predictions})\n",
    "output.to_csv('submission.csv', index=False)\n",
    "print(\"Your submission was successfully saved!\")"
   ]
  },
  {
   "cell_type": "code",
   "execution_count": null,
   "id": "72fe4d15",
   "metadata": {
    "papermill": {
     "duration": 0.017019,
     "end_time": "2025-01-30T12:04:20.449560",
     "exception": false,
     "start_time": "2025-01-30T12:04:20.432541",
     "status": "completed"
    },
    "tags": []
   },
   "outputs": [],
   "source": []
  }
 ],
 "metadata": {
  "kaggle": {
   "accelerator": "none",
   "dataSources": [
    {
     "databundleVersionId": 26502,
     "sourceId": 3136,
     "sourceType": "competition"
    }
   ],
   "dockerImageVersionId": 30839,
   "isGpuEnabled": false,
   "isInternetEnabled": false,
   "language": "python",
   "sourceType": "notebook"
  },
  "kernelspec": {
   "display_name": "Python 3",
   "language": "python",
   "name": "python3"
  },
  "language_info": {
   "codemirror_mode": {
    "name": "ipython",
    "version": 3
   },
   "file_extension": ".py",
   "mimetype": "text/x-python",
   "name": "python",
   "nbconvert_exporter": "python",
   "pygments_lexer": "ipython3",
   "version": "3.10.12"
  },
  "papermill": {
   "default_parameters": {},
   "duration": 404.863696,
   "end_time": "2025-01-30T12:04:23.011075",
   "environment_variables": {},
   "exception": null,
   "input_path": "__notebook__.ipynb",
   "output_path": "__notebook__.ipynb",
   "parameters": {},
   "start_time": "2025-01-30T11:57:38.147379",
   "version": "2.6.0"
  }
 },
 "nbformat": 4,
 "nbformat_minor": 5
}
